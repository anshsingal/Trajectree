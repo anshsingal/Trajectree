{
 "cells": [
  {
   "cell_type": "code",
   "execution_count": 2,
   "id": "80090a58",
   "metadata": {},
   "outputs": [
    {
     "name": "stderr",
     "output_type": "stream",
     "text": [
      "/home/asingal/home/.venv/lib/python3.10/site-packages/numba/np/ufunc/parallel.py:371: NumbaWarning: The TBB threading layer requires TBB version 2021 update 6 or later i.e., TBB_INTERFACE_VERSION >= 12060. Found TBB_INTERFACE_VERSION = 12050. The TBB threading layer is disabled.\n",
      "  warnings.warn(problem)\n",
      "/home/asingal/home/.venv/lib/python3.10/site-packages/cotengra/hyperoptimizers/hyper.py:33: UserWarning: Couldn't import `kahypar` - skipping from default hyper optimizer and using basic `labels` method instead.\n",
      "  warnings.warn(\n"
     ]
    }
   ],
   "source": [
    "from trajectree.fock_optics.noise_models import *\n",
    "from trajectree.fock_optics.measurement import *\n",
    "from trajectree.fock_optics.utils import *\n",
    "from trajectree.fock_optics.light_sources import *\n",
    "\n",
    "from trajectree.trajectory import *\n",
    "\n",
    "from trajectree.protocols.swap import perform_swapping_simulation\n",
    "\n",
    "import numpy as np"
   ]
  },
  {
   "cell_type": "code",
   "execution_count": 3,
   "id": "a8f68cfd",
   "metadata": {},
   "outputs": [
    {
     "name": "stdout",
     "output_type": "stream",
     "text": [
      "completed set cache_hits: 509 cache_partial_hits: 0 cache_misses: 3 time taken: 16.79181718826294\n",
      "average fidelity: 0.4192725842059333\n"
     ]
    }
   ],
   "source": [
    "# Set simulation params\n",
    "trunc = 3\n",
    "N = trunc+1\n",
    "error_tolerance = 1e-15\n",
    "\n",
    "mean_photon_num = 0.5 # (0.5)\n",
    "det_eff = 1 # 0.9\n",
    "channel_loss = 0.75\n",
    "\n",
    "\n",
    "num_modes = 8\n",
    "# Create vacuum state\n",
    "\n",
    "idler_angles = np.linspace(0, np.pi, 1)\n",
    "signal_angles = np.linspace(0, 4*np.pi, 30)\n",
    "\n",
    "num_simulations = 256\n",
    "\n",
    "\n",
    "cache_sizes = [2]\n",
    "\n",
    "fidelities, t_eval = perform_swapping_simulation(N, num_modes, mean_photon_num, det_eff, channel_loss, num_simulations, error_tolerance)\n",
    "print(\"average fidelity:\", np.mean(fidelities))\n"
   ]
  },
  {
   "cell_type": "code",
   "execution_count": null,
   "id": "ab2dd630",
   "metadata": {},
   "outputs": [],
   "source": []
  }
 ],
 "metadata": {
  "kernelspec": {
   "display_name": ".venv",
   "language": "python",
   "name": "python3"
  },
  "language_info": {
   "codemirror_mode": {
    "name": "ipython",
    "version": 3
   },
   "file_extension": ".py",
   "mimetype": "text/x-python",
   "name": "python",
   "nbconvert_exporter": "python",
   "pygments_lexer": "ipython3",
   "version": "3.10.12"
  }
 },
 "nbformat": 4,
 "nbformat_minor": 5
}
