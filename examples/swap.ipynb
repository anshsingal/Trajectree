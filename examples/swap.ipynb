{
 "cells": [
  {
   "cell_type": "code",
   "execution_count": 2,
   "id": "80090a58",
   "metadata": {},
   "outputs": [],
   "source": [
    "from trajectree.sequence.swap import perform_swapping_simulation\n",
    "# import trajectree\n",
    "\n",
    "import numpy as np\n",
    "from matplotlib import pyplot as plt"
   ]
  },
  {
   "cell_type": "code",
   "execution_count": 3,
   "id": "a8f68cfd",
   "metadata": {},
   "outputs": [
    {
     "name": "stderr",
     "output_type": "stream",
     "text": [
      "/home/anshs/.venv/lib/python3.12/site-packages/trajectree/fock_optics/measurement.py:84: LinAlgWarning: Matrix is singular. The result might be inaccurate or the array might not have a square root.\n"
     ]
    },
    {
     "name": "stdout",
     "output_type": "stream",
     "text": [
      "num pa quantum channels: 6\n",
      "trajectory_probs [1.]\n",
      "trajectory_probs [1.]\n",
      "trajectory_probs [8.95935943e-01 4.79552271e-02 2.64759258e-03 4.79552551e-02\n",
      " 2.56677934e-03 1.41687568e-04 2.64760673e-03 1.41660455e-04\n",
      " 7.78968752e-06]\n",
      "trajectory_probs [8.03097910e-01 4.27825011e-02 2.36734307e-03 4.27825291e-02\n",
      " 2.27901224e-03 1.26085000e-04 2.36733949e-03 1.26001133e-04\n",
      " 7.16336734e-06]\n",
      "trajectory_probs [8.03049619e-01 2.41438618e-05 7.21100918e-10 2.41438619e-05\n",
      " 7.25890468e-10 2.16800567e-14 7.21100914e-10 2.16800564e-14\n",
      " 6.47514807e-19]\n",
      "trajectory_probs [8.03001331e-01 2.41424156e-05 7.21057563e-10 2.41424157e-05\n",
      " 7.25847164e-10 2.16787580e-14 7.21057566e-10 2.16787580e-14\n",
      " 6.47475880e-19]\n",
      "trajectory_probs [4.27799563e-02 1.28618874e-06 3.84143953e-11 1.28645600e-06\n",
      " 3.86775849e-11 1.15517707e-15 3.84065636e-11 1.15470161e-15\n",
      " 3.44872970e-20]\n",
      "trajectory_probs [4.27773809e-02 1.28611149e-06 3.84120867e-11 1.28920017e-06\n",
      " 3.87600906e-11 1.15764148e-15 3.83198211e-11 1.15209396e-15\n",
      " 3.44094051e-20]\n",
      "trajectory_probs [4.27825483e-02 2.48846090e-03 1.31736897e-04 2.27902862e-03\n",
      " 1.32574512e-04 6.94454527e-06 1.26141144e-04 7.57266223e-06\n",
      " 2.15979100e-07]\n",
      "trajectory_probs [4.27799727e-02 1.28927845e-06 3.83221376e-11 1.28618912e-06\n",
      " 3.87624393e-11 1.15216322e-15 3.84144127e-11 1.15771158e-15\n",
      " 3.44114890e-20]\n",
      "trajectory_probs [4.27774000e-02 1.28637296e-06 3.84042605e-11 1.28611206e-06\n",
      " 3.86750903e-11 1.15463266e-15 3.84121034e-11 1.15510273e-15\n",
      " 3.44852277e-20]\n",
      "trajectory_probs [2.36719713e-03 7.11703891e-08 2.12563486e-12 7.11773868e-08\n",
      " 2.13996124e-12 6.39141960e-17 2.12544162e-12 6.39021023e-17\n",
      " 1.90854480e-21]\n",
      "trajectory_probs [2.36705495e-03 7.11658721e-08 2.12550878e-12 7.10095181e-08\n",
      " 2.13491212e-12 6.37633505e-17 2.13022164e-12 6.40454421e-17\n",
      " 1.91284313e-21]\n",
      "trajectory_probs [2.36736080e-03 1.26119557e-04 7.05601578e-06 1.31739411e-04\n",
      " 6.95804358e-06 3.42612050e-07 7.61898193e-06 3.94425134e-07\n",
      " 1.67852198e-08]\n",
      "trajectory_probs [2.36721861e-03 7.11709809e-08 2.12565018e-12 7.10144278e-08\n",
      " 2.13506537e-12 6.37675925e-17 2.13036892e-12 6.40500397e-17\n",
      " 1.91297039e-21]\n",
      "trajectory_probs [2.36707626e-03 7.11666761e-08 2.12552340e-12 7.11736121e-08\n",
      " 2.13985050e-12 6.39105665e-17 2.12531360e-12 6.38980305e-17\n",
      " 1.90843175e-21]\n",
      "trajectory_probs [4.27799283e-02 1.28645515e-06 3.84065386e-11 1.28618850e-06\n",
      " 3.86775728e-11 1.15470155e-15 3.84144028e-11 1.15517743e-15\n",
      " 3.44872996e-20]\n",
      "trajectory_probs [4.27773529e-02 1.28919934e-06 3.83197954e-11 1.28611069e-06\n",
      " 3.87600673e-11 1.15209320e-15 3.84120611e-11 1.15764072e-15\n",
      " 3.44093821e-20]\n",
      "trajectory_probs [4.27825482e-02 2.27902718e-03 1.26115608e-04 2.48846939e-03\n",
      " 1.32643969e-04 7.40830824e-06 1.31737307e-04 6.95237347e-06\n",
      " 3.48902256e-07]\n",
      "trajectory_probs [4.27799726e-02 1.28618903e-06 3.84144156e-11 1.28927845e-06\n",
      " 3.87624341e-11 1.15771175e-15 3.83221373e-11 1.15216321e-15\n",
      " 3.44114890e-20]\n",
      "trajectory_probs [4.27773999e-02 1.28611206e-06 3.84121032e-11 1.28637297e-06\n",
      " 3.86750906e-11 1.15510273e-15 3.84042605e-11 1.15463265e-15\n",
      " 3.44852276e-20]\n",
      "completed set cache_hits: 860 cache_partial_hits: 19 cache_misses: 21 time taken: 0.0011935234069824219\n",
      "[np.complex128(1.5567898629651318e-09+0j), np.complex128(4.1957788432059365e-10+1.5435147737690778e-55j), np.complex128(1.5567898629651318e-09+0j), np.complex128(1.5567898629651318e-09+0j), np.complex128(1.5567898629651318e-09+0j), np.complex128(1.5567898629651318e-09+0j), np.complex128(1.5567898629651318e-09+0j), np.complex128(1.5567898629651318e-09+0j), np.complex128(1.5567898629651318e-09+0j), np.complex128(1.5567898629651318e-09+0j), np.complex128(1.5567898629651318e-09+0j), np.complex128(1.5567898629651318e-09+0j), np.complex128(1.5567898629651318e-09+0j), np.complex128(1.5567898629651318e-09+0j), np.complex128(1.5567898629651318e-09+0j), np.complex128(8.797994582737113e-11-8.237825891716033e-53j), np.complex128(1.5567898629651318e-09+0j), np.complex128(1.5567898629651318e-09+0j), np.complex128(1.5567898629651318e-09+0j), np.complex128(1.5567898629651318e-09+0j), np.complex128(1.5567898629651318e-09+0j), np.complex128(1.5567898629651318e-09+0j), np.complex128(1.9039822892642898e-63+8.40081398601182e-81j), np.complex128(1.5567898629651318e-09+0j), np.complex128(1.5567898629651318e-09+0j), np.complex128(1.5567898629651318e-09+0j), np.complex128(1.5567898629651318e-09+0j), np.complex128(1.5567898629651318e-09+0j), np.complex128(1.5567898629651318e-09+0j), np.complex128(1.5567898629651318e-09+0j), np.complex128(1.5567898629651318e-09+0j), np.complex128(1.5567898629651318e-09+0j), np.complex128(1.5567898629651318e-09+0j), np.complex128(1.3501895098498748e-11-3.0292258760486853e-28j), np.complex128(1.9039822892642898e-63+8.40081398601182e-81j), np.complex128(1.5567898629651318e-09+0j), np.complex128(8.797994582737113e-11-8.237825891716033e-53j), np.complex128(1.5567898629651318e-09+0j), np.complex128(1.5567898629651318e-09+0j), np.complex128(4.1957788432059365e-10+1.5435147737690778e-55j), np.complex128(1.5567898629651318e-09+0j), np.complex128(1.5567898629651318e-09+0j), np.complex128(1.5567898629651318e-09+0j), np.complex128(4.2064519254426536e-10+8.188329402454508e-52j), np.complex128(1.5567898629651318e-09+0j), np.complex128(1.5567898629651318e-09+0j), np.complex128(1.5567898629651318e-09+0j), np.complex128(1.5567898629651318e-09+0j), np.complex128(1.5567898629651318e-09+0j), np.complex128(1.5567898629651318e-09+0j), np.complex128(1.5567898629651318e-09+0j), np.complex128(1.5567898629651318e-09+0j), np.complex128(1.5567898629651318e-09+0j), np.complex128(8.798773060144603e-11+1.4093816428520979e-52j), np.complex128(1.5567898629651318e-09+0j), np.complex128(1.5567898629651318e-09+0j), np.complex128(1.5567898629651318e-09+0j), np.complex128(1.5567898629651318e-09+0j), np.complex128(1.5567898629651318e-09+0j), np.complex128(4.1957788432059365e-10+1.5435147737690778e-55j), np.complex128(1.5567898629651318e-09+0j), np.complex128(1.5567898629651318e-09+0j), np.complex128(1.5567898629651318e-09+0j), np.complex128(1.5567898629651318e-09+0j), np.complex128(1.5567898629651318e-09+0j), np.complex128(1.5567898629651318e-09+0j), np.complex128(1.5567898629651318e-09+0j), np.complex128(1.5567898629651318e-09+0j), np.complex128(1.5567898629651318e-09+0j), np.complex128(1.5567898629651318e-09+0j), np.complex128(4.1957788432059365e-10+1.5435147737690778e-55j), np.complex128(1.5567898629651318e-09+0j), np.complex128(8.798773060144603e-11+1.4093816428520979e-52j), np.complex128(1.5567898629651318e-09+0j), np.complex128(1.5567898629651318e-09+0j), np.complex128(1.5567898629651318e-09+0j), np.complex128(1.5567898629651318e-09+0j), np.complex128(1.5567898629651318e-09+0j), np.complex128(1.5567898629651318e-09+0j), np.complex128(1.5567898629651318e-09+0j), np.complex128(1.5567898629651318e-09+0j), np.complex128(8.797994582737113e-11-8.237825891716033e-53j), np.complex128(1.5567898629651318e-09+0j), np.complex128(4.2064519254426536e-10+8.188329402454508e-52j), np.complex128(4.2064519254426536e-10+8.188329402454508e-52j), np.complex128(1.5567898629651318e-09+0j), np.complex128(8.797994582737113e-11-8.237825891716033e-53j), np.complex128(1.5567898629651318e-09+0j), np.complex128(4.2064519254426536e-10+8.188329402454508e-52j), np.complex128(1.5567898629651318e-09+0j), np.complex128(1.5567898629651318e-09+0j), np.complex128(4.1957788432059365e-10+1.5435147737690778e-55j), np.complex128(1.5567898629651318e-09+0j), np.complex128(1.5567898629651318e-09+0j), np.complex128(1.5567898629651318e-09+0j), np.complex128(1.5567898629651318e-09+0j), np.complex128(1.5567898629651318e-09+0j), np.complex128(4.2064519254426536e-10+8.188329402454508e-52j), np.complex128(1.5567898629651318e-09+0j), np.complex128(1.5567898629651318e-09+0j), np.complex128(1.5567898629651318e-09+0j), np.complex128(1.5567898629651318e-09+0j), np.complex128(4.2064519254426536e-10+8.188329402454508e-52j), np.complex128(1.5567898629651318e-09+0j), np.complex128(1.5567898629651318e-09+0j), np.complex128(1.5567898629651318e-09+0j), np.complex128(4.2064519254426536e-10+8.188329402454508e-52j), np.complex128(1.5567898629651318e-09+0j), np.complex128(1.5567898629651318e-09+0j), np.complex128(1.5567898629651318e-09+0j), np.complex128(8.797994582737113e-11-8.237825891716033e-53j), np.complex128(1.5567898629651318e-09+0j), np.complex128(1.5567898629651318e-09+0j), np.complex128(1.5567898629651318e-09+0j), np.complex128(1.5567898629651318e-09+0j), np.complex128(1.5567898629651318e-09+0j), np.complex128(1.5567898629651318e-09+0j), np.complex128(1.5567898629651318e-09+0j), np.complex128(1.5567898629651318e-09+0j), np.complex128(1.5567898629651318e-09+0j), np.complex128(1.5567898629651318e-09+0j), np.complex128(8.797994582737113e-11-8.237825891716033e-53j), np.complex128(1.5567898629651318e-09+0j), np.complex128(1.5567898629651318e-09+0j), np.complex128(1.5567898629651318e-09+0j), np.complex128(4.1957788432059365e-10+1.5435147737690778e-55j), np.complex128(1.5567898629651318e-09+0j), np.complex128(1.5567898629651318e-09+0j), np.complex128(1.5567898629651318e-09+0j), np.complex128(1.5567898629651318e-09+0j), np.complex128(1.5567898629651318e-09+0j), np.complex128(1.5567898629651318e-09+0j), np.complex128(8.797994582737113e-11-8.237825891716033e-53j), np.complex128(1.5567898629651318e-09+0j), np.complex128(1.5567898629651318e-09+0j), np.complex128(1.5567898629651318e-09+0j), np.complex128(1.5567898629651318e-09+0j), np.complex128(4.1957788432059365e-10+1.5435147737690778e-55j), np.complex128(1.5567898629651318e-09+0j), np.complex128(1.5567898629651318e-09+0j), np.complex128(1.5567898629651318e-09+0j), np.complex128(1.5567898629651318e-09+0j), np.complex128(1.5567898629651318e-09+0j), np.complex128(1.5567898629651318e-09+0j), np.complex128(1.5567898629651318e-09+0j), np.complex128(8.798773060144603e-11+1.4093816428520979e-52j), np.complex128(8.797994582737113e-11-8.237825891716033e-53j), np.complex128(4.2064519254426536e-10+8.188329402454508e-52j), np.complex128(1.5567898629651318e-09+0j), np.complex128(1.5567898629651318e-09+0j)]\n"
     ]
    },
    {
     "name": "stderr",
     "output_type": "stream",
     "text": [
      "/home/anshs/.venv/lib/python3.12/site-packages/trajectree/fock_optics/measurement.py:84: LinAlgWarning: Matrix is singular. The result might be inaccurate or the array might not have a square root.\n"
     ]
    },
    {
     "name": "stdout",
     "output_type": "stream",
     "text": [
      "num pa quantum channels: 6\n",
      "trajectory_probs [1.]\n",
      "trajectory_probs [1.]\n",
      "trajectory_probs [8.95935943e-01 4.79552271e-02 2.64759258e-03 4.79552551e-02\n",
      " 2.56677934e-03 1.41687568e-04 2.64760673e-03 1.41660455e-04\n",
      " 7.78968752e-06]\n",
      "trajectory_probs [8.03097910e-01 4.27825011e-02 2.36734307e-03 4.27825291e-02\n",
      " 2.27901224e-03 1.26085000e-04 2.36733949e-03 1.26001133e-04\n",
      " 7.16336734e-06]\n",
      "trajectory_probs [8.03049619e-01 2.41438618e-05 7.21100918e-10 2.41438619e-05\n",
      " 7.25890468e-10 2.16800567e-14 7.21100914e-10 2.16800564e-14\n",
      " 6.47514807e-19]\n",
      "trajectory_probs [8.03001331e-01 2.41424156e-05 7.21057563e-10 2.41424157e-05\n",
      " 7.25847164e-10 2.16787580e-14 7.21057566e-10 2.16787580e-14\n",
      " 6.47475880e-19]\n",
      "trajectory_probs [4.27799563e-02 1.28618874e-06 3.84143953e-11 1.28645600e-06\n",
      " 3.86775849e-11 1.15517707e-15 3.84065636e-11 1.15470161e-15\n",
      " 3.44872970e-20]\n",
      "trajectory_probs [4.27773809e-02 1.28611149e-06 3.84120867e-11 1.28920017e-06\n",
      " 3.87600906e-11 1.15764148e-15 3.83198211e-11 1.15209396e-15\n",
      " 3.44094051e-20]\n",
      "trajectory_probs [4.27799283e-02 1.28645515e-06 3.84065386e-11 1.28618850e-06\n",
      " 3.86775728e-11 1.15470155e-15 3.84144028e-11 1.15517743e-15\n",
      " 3.44872996e-20]\n",
      "trajectory_probs [4.27773529e-02 1.28919934e-06 3.83197954e-11 1.28611069e-06\n",
      " 3.87600673e-11 1.15209320e-15 3.84120611e-11 1.15764072e-15\n",
      " 3.44093821e-20]\n",
      "trajectory_probs [2.27902829e-03 1.32564687e-04 6.95728105e-06 1.32650724e-04\n",
      " 7.85823850e-06 4.29153614e-07 6.95659110e-06 3.27463171e-07\n",
      " 6.69587528e-09]\n",
      "trajectory_probs [2.27889092e-03 6.86798613e-08 2.04142352e-12 6.86800067e-08\n",
      " 2.06983797e-12 6.15233185e-17 2.04141916e-12 6.15230568e-17\n",
      " 1.82869769e-21]\n",
      "trajectory_probs [2.27875386e-03 6.85251560e-08 2.04579628e-12 6.85252635e-08\n",
      " 2.06064598e-12 6.15199017e-17 2.04579305e-12 6.15197081e-17\n",
      " 1.83665126e-21]\n",
      "trajectory_probs [4.27825483e-02 2.48846090e-03 1.31736897e-04 2.27902862e-03\n",
      " 1.32574512e-04 6.94454527e-06 1.26141144e-04 7.57266223e-06\n",
      " 2.15979100e-07]\n",
      "trajectory_probs [4.27799727e-02 1.28927845e-06 3.83221376e-11 1.28618912e-06\n",
      " 3.87624393e-11 1.15216322e-15 3.84144127e-11 1.15771158e-15\n",
      " 3.44114890e-20]\n",
      "trajectory_probs [4.27774000e-02 1.28637296e-06 3.84042605e-11 1.28611206e-06\n",
      " 3.86750903e-11 1.15463266e-15 3.84121034e-11 1.15510273e-15\n",
      " 3.44852277e-20]\n",
      "trajectory_probs [4.27825482e-02 2.27902718e-03 1.26115608e-04 2.48846939e-03\n",
      " 1.32643969e-04 7.40830824e-06 1.31737307e-04 6.95237347e-06\n",
      " 3.48902256e-07]\n",
      "trajectory_probs [4.27799726e-02 1.28618903e-06 3.84144156e-11 1.28927845e-06\n",
      " 3.87624341e-11 1.15771175e-15 3.83221373e-11 1.15216321e-15\n",
      " 3.44114890e-20]\n",
      "trajectory_probs [4.27773999e-02 1.28611206e-06 3.84121032e-11 1.28637297e-06\n",
      " 3.86750906e-11 1.15510273e-15 3.84042605e-11 1.15463265e-15\n",
      " 3.44852276e-20]\n",
      "trajectory_probs [2.27887517e-03 6.85323896e-08 2.04580769e-12 6.85309447e-08\n",
      " 2.06092639e-12 6.15220168e-17 2.04585103e-12 6.15246172e-17\n",
      " 1.83661744e-21]\n",
      "trajectory_probs [2.27873781e-03 6.86752392e-08 2.04128660e-12 6.86750296e-08\n",
      " 2.06968823e-12 6.15188525e-17 2.04129288e-12 6.15192297e-17\n",
      " 1.82858521e-21]\n",
      "completed set cache_hits: 857 cache_partial_hits: 22 cache_misses: 21 time taken: 0.0009849071502685547\n",
      "[np.complex128(2.691346173803509e-21+0j), np.complex128(8.041203958293511e-11-9.866223483909136e-52j), np.complex128(2.691346173803509e-21+0j), np.complex128(2.691346173803509e-21+0j), np.complex128(2.691346173803509e-21+0j), np.complex128(2.691346173803509e-21+0j), np.complex128(2.691346173803509e-21+0j), np.complex128(2.691346173803509e-21+0j), np.complex128(2.691346173803509e-21+0j), np.complex128(2.691346173803509e-21+0j), np.complex128(2.691346173803509e-21+0j), np.complex128(8.041203958293511e-11-9.866223483909136e-52j), np.complex128(2.691346173803509e-21+0j), np.complex128(2.691346173803509e-21+0j), np.complex128(2.691346173803509e-21+0j), np.complex128(2.691346173803509e-21+0j), np.complex128(2.691346173803509e-21+0j), np.complex128(2.691346173803509e-21+0j), np.complex128(2.691346173803509e-21+0j), np.complex128(8.069318637212056e-11+4.058459953104403e-52j), np.complex128(2.691346173803509e-21+0j), np.complex128(2.691346173803509e-21+0j), np.complex128(8.041203958293511e-11-9.866223483909136e-52j), np.complex128(2.691346173803509e-21+0j), np.complex128(2.691346173803509e-21+0j), np.complex128(2.691346173803509e-21+0j), np.complex128(2.691346173803509e-21+0j), np.complex128(1.012482193105605e-11-9.087677628146056e-28j), np.complex128(2.691346173803509e-21+0j), np.complex128(2.691346173803509e-21+0j), np.complex128(8.79799458273697e-11-4.1622760812468453e-53j), np.complex128(2.691346173803509e-21+0j), np.complex128(2.691346173803509e-21+0j), np.complex128(8.79799458273697e-11-4.1622760812468453e-53j), np.complex128(2.691346173803509e-21+0j), np.complex128(2.691346173803509e-21+0j), np.complex128(2.691346173803509e-21+0j), np.complex128(2.691346173803509e-21+0j), np.complex128(2.691346173803509e-21+0j), np.complex128(2.691346173803509e-21+0j), np.complex128(8.041203958293511e-11-9.866223483909136e-52j), np.complex128(8.79877306014464e-11-2.5248286810701487e-52j), np.complex128(2.691346173803509e-21+0j), np.complex128(2.691346173803509e-21+0j), np.complex128(8.79799458273697e-11-4.1622760812468453e-53j), np.complex128(8.069318637212056e-11+4.058459953104403e-52j), np.complex128(2.691346173803509e-21+0j), np.complex128(2.691346173803509e-21+0j), np.complex128(8.79799458273697e-11-4.1622760812468453e-53j), np.complex128(3.6529880621107127e-11-1.211690350419474e-27j), np.complex128(2.691346173803509e-21+0j), np.complex128(2.691346173803509e-21+0j), np.complex128(8.79877306014464e-11-2.5248286810701487e-52j), np.complex128(2.691346173803509e-21+0j), np.complex128(2.691346173803509e-21+0j), np.complex128(8.041203958293511e-11-9.866223483909136e-52j), np.complex128(2.691346173803509e-21+0j), np.complex128(8.069318637212056e-11+4.058459953104403e-52j), np.complex128(2.691346173803509e-21+0j), np.complex128(2.691346173803509e-21+0j), np.complex128(2.691346173803509e-21+0j), np.complex128(2.691346173803509e-21+0j), np.complex128(2.691346173803509e-21+0j), np.complex128(8.79799458273697e-11-4.1622760812468453e-53j), np.complex128(2.691346173803509e-21+0j), np.complex128(2.691346173803509e-21+0j), np.complex128(2.691346173803509e-21+0j), np.complex128(2.691346173803509e-21+0j), np.complex128(8.041203958293511e-11-9.866223483909136e-52j), np.complex128(2.691346173803509e-21+0j), np.complex128(2.691346173803509e-21+0j), np.complex128(2.691346173803509e-21+0j), np.complex128(2.691346173803509e-21+0j), np.complex128(2.691346173803509e-21+0j), np.complex128(2.691346173803509e-21+0j), np.complex128(2.691346173803509e-21+0j), np.complex128(2.691346173803509e-21+0j), np.complex128(8.79877306014464e-11-2.5248286810701487e-52j), np.complex128(2.691346173803509e-21+0j), np.complex128(2.691346173803509e-21+0j), np.complex128(2.691346173803509e-21+0j), np.complex128(2.691346173803509e-21+0j), np.complex128(2.691346173803509e-21+0j), np.complex128(8.79799458273697e-11-4.1622760812468453e-53j), np.complex128(2.691346173803509e-21+0j), np.complex128(2.691346173803509e-21+0j), np.complex128(2.691346173803509e-21+0j), np.complex128(2.691346173803509e-21+0j), np.complex128(8.069318637212056e-11+4.058459953104403e-52j), np.complex128(2.691346173803509e-21+0j), np.complex128(8.79799458273697e-11-4.1622760812468453e-53j), np.complex128(2.691346173803509e-21+0j), np.complex128(2.691346173803509e-21+0j), np.complex128(2.691346173803509e-21+0j), np.complex128(2.691346173803509e-21+0j), np.complex128(8.069318637212056e-11+4.058459953104403e-52j), np.complex128(2.691346173803509e-21+0j), np.complex128(8.069318637212056e-11+4.058459953104403e-52j), np.complex128(2.691346173803509e-21+0j), np.complex128(2.691346173803509e-21+0j), np.complex128(2.691346173803509e-21+0j), np.complex128(2.691346173803509e-21+0j), np.complex128(8.79877306014464e-11-2.5248286810701487e-52j), np.complex128(8.041203958293511e-11-9.866223483909136e-52j), np.complex128(2.691346173803509e-21+0j), np.complex128(2.691346173803509e-21+0j), np.complex128(8.069318637212056e-11+4.058459953104403e-52j), np.complex128(2.691346173803509e-21+0j), np.complex128(2.691346173803509e-21+0j), np.complex128(2.691346173803509e-21+0j), np.complex128(2.691346173803509e-21+0j), np.complex128(8.79877306014464e-11-2.5248286810701487e-52j), np.complex128(2.691346173803509e-21+0j), np.complex128(2.691346173803509e-21+0j), np.complex128(2.691346173803509e-21+0j), np.complex128(2.691346173803509e-21+0j), np.complex128(2.691346173803509e-21+0j), np.complex128(2.691346173803509e-21+0j), np.complex128(2.691346173803509e-21+0j), np.complex128(2.691346173803509e-21+0j), np.complex128(2.691346173803509e-21+0j), np.complex128(8.79877306014464e-11-2.5248286810701487e-52j), np.complex128(2.691346173803509e-21+0j), np.complex128(2.691346173803509e-21+0j), np.complex128(8.069318637212056e-11+4.058459953104403e-52j), np.complex128(8.79877306014464e-11-2.5248286810701487e-52j), np.complex128(8.79799458273697e-11-4.1622760812468453e-53j), np.complex128(8.79799458273697e-11-4.1622760812468453e-53j), np.complex128(2.691346173803509e-21+0j), np.complex128(2.691346173803509e-21+0j), np.complex128(2.691346173803509e-21+0j), np.complex128(2.691346173803509e-21+0j), np.complex128(2.691346173803509e-21+0j), np.complex128(3.6529880621107127e-11-1.211690350419474e-27j), np.complex128(2.691346173803509e-21+0j), np.complex128(2.691346173803509e-21+0j), np.complex128(2.691346173803509e-21+0j), np.complex128(2.691346173803509e-21+0j), np.complex128(2.691346173803509e-21+0j), np.complex128(2.691346173803509e-21+0j), np.complex128(2.691346173803509e-21+0j), np.complex128(2.691346173803509e-21+0j), np.complex128(8.041203958293511e-11-9.866223483909136e-52j), np.complex128(8.041203958293511e-11-9.866223483909136e-52j), np.complex128(3.6529880621107127e-11-1.211690350419474e-27j), np.complex128(8.041203958293511e-11-9.866223483909136e-52j), np.complex128(2.691346173803509e-21+0j), np.complex128(8.069318637212056e-11+4.058459953104403e-52j), np.complex128(8.041203958293511e-11-9.866223483909136e-52j), np.complex128(2.691346173803509e-21+0j)]\n"
     ]
    }
   ],
   "source": [
    "# Set simulation params\n",
    "trunc = 2\n",
    "N = trunc+1\n",
    "error_tolerance = 1e-7\n",
    "\n",
    "params = {\n",
    "    \"PA_det_loss\": 0.04,\n",
    "    \"BSM_det_loss_1\": 0.04, #  0.045,\n",
    "    \"BSM_det_loss_2\": 0.04, # 0.135,\n",
    "    \"BSM_dark_counts_1\": 1,\n",
    "    \"BSM_dark_counts_2\": 1,\n",
    "    \"alpha_list\": np.array([np.pi/2]),\n",
    "    \"delta_list\": np.array([np.pi/2]),\n",
    "    \"channel_loss\": 0,\n",
    "    \"chi\": 0.24,\n",
    "    \"BSM_meas\": {0:(2,3), 1:(6,7)},\n",
    "\n",
    "    \"if_analyze_entanglement\": True,\n",
    "    \"calc_fidelity\": False,\n",
    "}\n",
    "\n",
    "num_modes = 8\n",
    "# Create vacuum state\n",
    " \n",
    "# idler_angles = np.linspace(0, np.pi, 1)\n",
    "# signal_angles = np.linspace(0, 4*np.pi, 30)\n",
    "\n",
    "num_simulations = 150\n",
    "visibilities = []\n",
    "\n",
    "cache_sizes = [2]\n",
    "\n",
    "for i in [3e-5]: # np.linspace(0.1, 0.5, 5):\n",
    "    prob_same_phase = 0\n",
    "    prob_diff_phase = 0\n",
    "\n",
    "    # params['chi'] = i\n",
    "    params[\"BSM_dark_counts_1\"] = 1+i\n",
    "    params[\"BSM_dark_counts_2\"] = 1+i\n",
    "\n",
    "    params[\"alpha_list\"] = np.array([np.pi/2])\n",
    "\n",
    "    fidelities, probabilities, t_eval = perform_swapping_simulation(N, num_modes, num_simulations, params = params, error_tolerance = error_tolerance)\n",
    "    print(probabilities)\n",
    "    prob_same_phase += np.mean(probabilities)\n",
    "\n",
    "    params[\"alpha_list\"] = np.array([3*np.pi/2])\n",
    "\n",
    "    fidelities, probabilities, t_eval = perform_swapping_simulation(N, num_modes, num_simulations, params = params, error_tolerance = error_tolerance)\n",
    "    print(probabilities)\n",
    "    prob_diff_phase += np.mean(probabilities)\n",
    "\n",
    "    visibilities.append((prob_same_phase - prob_diff_phase) / (prob_same_phase + prob_diff_phase))\n",
    "# params[\"BSM_meas\"] = {1:(2,3), 0:(6,7)}\n",
    "\n",
    "# fidelities, probabilities, t_eval = perform_swapping_simulation(N, num_modes, num_simulations, params = params, error_tolerance = error_tolerance)\n",
    "# prob_diff_phase += np.mean(probabilities)\n",
    "\n",
    "# params[\"alpha_list\"] = np.array([np.pi/2])\n",
    "\n",
    "# fidelities, probabilities, t_eval = perform_swapping_simulation(N, num_modes, num_simulations, params = params, error_tolerance = error_tolerance)\n",
    "# prob_same_phase += np.mean(probabilities)"
   ]
  },
  {
   "cell_type": "code",
   "execution_count": 4,
   "id": "917a4301",
   "metadata": {},
   "outputs": [
    {
     "name": "stdout",
     "output_type": "stream",
     "text": [
      "[np.complex128(0.9684273148012363+4.494443311777393e-20j)]\n"
     ]
    },
    {
     "data": {
      "image/png": "[encoded data removed]",
      "text/plain": [
       "<Figure size 640x480 with 1 Axes>"
      ]
     },
     "metadata": {},
     "output_type": "display_data"
    }
   ],
   "source": [
    "plt.plot(visibilities[1:])\n",
    "print(visibilities)"
   ]
  },
  {
   "cell_type": "code",
   "execution_count": 4,
   "id": "ab2dd630",
   "metadata": {},
   "outputs": [
    {
     "data": {
      "text/plain": [
       "np.complex128(0.9758537297292986+2.3090187799573835e-19j)"
      ]
     },
     "execution_count": 4,
     "metadata": {},
     "output_type": "execute_result"
    }
   ],
   "source": [
    "(prob_same_phase - prob_diff_phase) / (prob_same_phase + prob_diff_phase)"
   ]
  }
 ],
 "metadata": {
  "kernelspec": {
   "display_name": ".venv",
   "language": "python",
   "name": "python3"
  },
  "language_info": {
   "codemirror_mode": {
    "name": "ipython",
    "version": 3
   },
   "file_extension": ".py",
   "mimetype": "text/x-python",
   "name": "python",
   "nbconvert_exporter": "python",
   "pygments_lexer": "ipython3",
   "version": "3.12.3"
  }
 },
 "nbformat": 4,
 "nbformat_minor": 5
}
