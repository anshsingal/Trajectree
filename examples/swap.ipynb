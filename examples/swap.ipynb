{
 "cells": [
  {
   "cell_type": "code",
   "execution_count": 1,
   "id": "80090a58",
   "metadata": {},
   "outputs": [
    {
     "name": "stderr",
     "output_type": "stream",
     "text": [
      "/home/asingal/home/.venv/lib/python3.10/site-packages/numba/np/ufunc/parallel.py:371: NumbaWarning: The TBB threading layer requires TBB version 2021 update 6 or later i.e., TBB_INTERFACE_VERSION >= 12060. Found TBB_INTERFACE_VERSION = 12050. The TBB threading layer is disabled.\n",
      "  warnings.warn(problem)\n",
      "/home/asingal/home/.venv/lib/python3.10/site-packages/cotengra/hyperoptimizers/hyper.py:33: UserWarning: Couldn't import `kahypar` - skipping from default hyper optimizer and using basic `labels` method instead.\n",
      "  warnings.warn(\n"
     ]
    }
   ],
   "source": [
    "from trajectree.sequence.swap import perform_swapping_simulation\n",
    "# import trajectree\n",
    "\n",
    "import numpy as np\n",
    "from matplotlib import pyplot as plt"
   ]
  },
  {
   "cell_type": "code",
   "execution_count": 2,
   "id": "a8f68cfd",
   "metadata": {},
   "outputs": [
    {
     "name": "stderr",
     "output_type": "stream",
     "text": [
      "/home/asingal/home/quimb/quimb/tensor/tensor_1d.py:1867: RuntimeWarning: divide by zero encountered in divide\n",
      "  self[insert].modify(data=self[insert].data / norm**0.5)\n",
      "/home/asingal/home/quimb/quimb/tensor/tensor_1d.py:1867: RuntimeWarning: invalid value encountered in divide\n",
      "  self[insert].modify(data=self[insert].data / norm**0.5)\n"
     ]
    },
    {
     "name": "stdout",
     "output_type": "stream",
     "text": [
      "probabilities: [np.complex128(0j), np.complex128(0j), np.complex128(0j), np.complex128(0j), np.complex128(0j), np.complex128(0j), np.complex128(2.6616452939152916e-127+0j), np.complex128(0j), np.complex128(0j), np.complex128(0j)]\n",
      "fidelities: []\n",
      "probabilities: [np.complex128(0j), np.complex128(0j), np.complex128(0j), np.complex128(0j), np.complex128(0j), np.complex128(0j), np.complex128(0j), np.complex128(0j), np.complex128(0j), np.complex128(0j)]\n",
      "fidelities: []\n"
     ]
    }
   ],
   "source": [
    "# Set simulation params\n",
    "trunc = 3\n",
    "N = trunc+1\n",
    "error_tolerance = 1e-7\n",
    "\n",
    "params = {\n",
    "    \"PA_det_eff\": 1,\n",
    "    \"BSM_det_loss_1\": 1e-6, #  0.045,\n",
    "    \"BSM_det_loss_2\": 1e-6, # 0.135,\n",
    "    \"BSM_dark_counts_1\": 1,\n",
    "    \"BSM_dark_counts_2\": 1,\n",
    "    \"alpha_list\": np.array([np.pi/2]),\n",
    "    \"delta_list\": np.array([np.pi/2]),\n",
    "    \"channel_loss\": 0,\n",
    "    \"chi\": 0.24,\n",
    "    \"BSM_meas\": {0:(2,3), 1:(6,7)},\n",
    "\n",
    "    \"if_analyze_entanglement\": True,\n",
    "    \"calc_fidelity\": False,\n",
    "}\n",
    "\n",
    "num_modes = 8\n",
    "# Create vacuum state\n",
    " \n",
    "# idler_angles = np.linspace(0, np.pi, 1)\n",
    "# signal_angles = np.linspace(0, 4*np.pi, 30)\n",
    "\n",
    "num_simulations = 10\n",
    "visibilities = []\n",
    "\n",
    "cache_sizes = [2]\n",
    "\n",
    "for i in [1e-3]: # np.linspace(0.1, 0.5, 5):\n",
    "    prob_same_phase = 0\n",
    "    prob_diff_phase = 0\n",
    "\n",
    "    # params['chi'] = i\n",
    "    params[\"BSM_dark_counts_1\"] = 1+i\n",
    "    params[\"BSM_dark_counts_2\"] = 1+i\n",
    "\n",
    "    params[\"alpha_list\"] = np.array([np.pi/2])\n",
    "\n",
    "    fidelities, probabilities, t_eval = perform_swapping_simulation(N, num_modes, num_simulations, params = params, error_tolerance = error_tolerance)\n",
    "    print(\"probabilities:\", probabilities)\n",
    "    print(\"fidelities:\", fidelities)\n",
    "    prob_same_phase += np.mean(probabilities)\n",
    "\n",
    "    params[\"alpha_list\"] = np.array([3*np.pi/2])\n",
    "\n",
    "    fidelities, probabilities, t_eval = perform_swapping_simulation(N, num_modes, num_simulations, params = params, error_tolerance = error_tolerance)\n",
    "    print(\"probabilities:\", probabilities)\n",
    "    print(\"fidelities:\", fidelities)\n",
    "    prob_diff_phase += np.mean(probabilities)\n",
    "\n",
    "    visibilities.append((prob_same_phase - prob_diff_phase) / (prob_same_phase + prob_diff_phase))\n",
    "# params[\"BSM_meas\"] = {1:(2,3), 0:(6,7)}\n",
    "\n",
    "# fidelities, probabilities, t_eval = perform_swapping_simulation(N, num_modes, num_simulations, params = params, error_tolerance = error_tolerance)\n",
    "# prob_diff_phase += np.mean(probabilities)\n",
    "\n",
    "# params[\"alpha_list\"] = np.array([np.pi/2])\n",
    "\n",
    "# fidelities, probabilities, t_eval = perform_swapping_simulation(N, num_modes, num_simulations, params = params, error_tolerance = error_tolerance)\n",
    "# prob_same_phase += np.mean(probabilities)"
   ]
  },
  {
   "cell_type": "code",
   "execution_count": 3,
   "id": "917a4301",
   "metadata": {},
   "outputs": [
    {
     "name": "stdout",
     "output_type": "stream",
     "text": [
      "[np.complex128(1+0j)]\n"
     ]
    },
    {
     "data": {
      "image/png": "[encoded data removed]",
      "text/plain": [
       "<Figure size 640x480 with 1 Axes>"
      ]
     },
     "metadata": {},
     "output_type": "display_data"
    }
   ],
   "source": [
    "plt.plot(visibilities[1:])\n",
    "print(visibilities)"
   ]
  },
  {
   "cell_type": "code",
   "execution_count": 4,
   "id": "ab2dd630",
   "metadata": {},
   "outputs": [
    {
     "data": {
      "text/plain": [
       "np.complex128(1+0j)"
      ]
     },
     "execution_count": 4,
     "metadata": {},
     "output_type": "execute_result"
    }
   ],
   "source": [
    "(prob_same_phase - prob_diff_phase) / (prob_same_phase + prob_diff_phase)"
   ]
  }
 ],
 "metadata": {
  "kernelspec": {
   "display_name": ".venv",
   "language": "python",
   "name": "python3"
  },
  "language_info": {
   "codemirror_mode": {
    "name": "ipython",
    "version": 3
   },
   "file_extension": ".py",
   "mimetype": "text/x-python",
   "name": "python",
   "nbconvert_exporter": "python",
   "pygments_lexer": "ipython3",
   "version": "3.10.12"
  }
 },
 "nbformat": 4,
 "nbformat_minor": 5
}
