{
 "cells": [
  {
   "cell_type": "code",
   "execution_count": 1,
   "id": "e1a0c9b8",
   "metadata": {},
   "outputs": [
    {
     "name": "stderr",
     "output_type": "stream",
     "text": [
      "/home/asingal/home/.venv/lib/python3.10/site-packages/numba/np/ufunc/parallel.py:371: NumbaWarning: The TBB threading layer requires TBB version 2021 update 6 or later i.e., TBB_INTERFACE_VERSION >= 12060. Found TBB_INTERFACE_VERSION = 12050. The TBB threading layer is disabled.\n",
      "  warnings.warn(problem)\n",
      "/home/asingal/home/.venv/lib/python3.10/site-packages/cotengra/hyperoptimizers/hyper.py:33: UserWarning: Couldn't import `kahypar` - skipping from default hyper optimizer and using basic `labels` method instead.\n",
      "  warnings.warn(\n"
     ]
    }
   ],
   "source": [
    "# This notebook is an implementation of an optical CNOT operation using PBSs. Based on: https://doi.org/10.1103/PhysRevA.64.062311\n",
    "import qutip as qt\n",
    "import numpy as np\n",
    "from quimb.tensor.tensor_arbgeom import tensor_network_apply_op_vec\n",
    "from matplotlib import pyplot as plt\n",
    "\n",
    "from trajectree.optical_quant_info import *\n",
    "from trajectree.fock_optics.outputs import read_quantum_state"
   ]
  },
  {
   "cell_type": "code",
   "execution_count": 2,
   "id": "fe3de370",
   "metadata": {},
   "outputs": [],
   "source": [
    "N = 2\n",
    "mean_photon_num = 0.05\n",
    "error_tolerance = 1e-10"
   ]
  },
  {
   "cell_type": "code",
   "execution_count": 3,
   "id": "73462ca4",
   "metadata": {},
   "outputs": [],
   "source": [
    "# Defining the control and target inputs here\n",
    "a_dag = qt.create(N).full()\n",
    "I = qt.identity(N).full()\n",
    "\n",
    "a_H = np.kron(a_dag, I)\n",
    "a_V = np.kron(I, a_dag)\n",
    "\n",
    "# Testing the case with two MPSs for control and target\n",
    "vacuum = create_vacuum_state(num_modes=2, N=N)\n",
    "\n",
    "# control_operator = 1/np.sqrt(3) * a_H - np.sqrt(2/3) * a_V\n",
    "control_operator = a_V\n",
    "control_MPO = create_MPO(0, 1, 2, control_operator, N, \"control\")\n",
    "psi_control = tensor_network_apply_op_vec(control_MPO, vacuum, compress=True, contract = True, cutoff = error_tolerance)\n",
    "\n",
    "# Our target is in the H state \n",
    "target_operator = a_V\n",
    "target_MPO = create_MPO(0, 1, 2, target_operator, N, \"target\")\n",
    "psi_target = tensor_network_apply_op_vec(target_MPO, vacuum, compress=True, contract = True, cutoff = error_tolerance)\n",
    "\n",
    "\n",
    "# Testing the case with only one MPS for both control and target\n",
    "vacuum = create_vacuum_state(num_modes=8, N=N)\n",
    "\n",
    "# control_operator = 1/np.sqrt(3) * a_H + np.sqrt(2/3) * a_V\n",
    "control_operator = a_H\n",
    "control_MPO = create_MPO(2, 3, 8, control_operator, N, \"control\")\n",
    "psi_control = tensor_network_apply_op_vec(control_MPO, vacuum, compress=True, contract = True, cutoff = error_tolerance)\n",
    "\n",
    "# Our target is in the H state \n",
    "target_operator = 1/np.sqrt(3) * a_H + np.sqrt(2/3) * a_V\n",
    "target_MPO = create_MPO(6, 7, 8, target_operator, N, \"target\")\n",
    "psi_combined = tensor_network_apply_op_vec(target_MPO, psi_control, compress=True, contract = True, cutoff = error_tolerance)\n",
    "\n",
    "\n",
    "# Testing the case with only one MPS for both control and target\n",
    "vacuum = create_vacuum_state(num_modes=4, N=N)\n",
    "\n",
    "# control_operator = 1/np.sqrt(3) * a_H + np.sqrt(2/3) * a_V\n",
    "control_operator = a_H\n",
    "control_MPO = create_MPO(0, 1, 4, control_operator, N, \"control\")\n",
    "psi_control = tensor_network_apply_op_vec(control_MPO, vacuum, compress=True, contract = True, cutoff = error_tolerance)\n",
    "\n",
    "# Our target is in the H state \n",
    "target_operator = a_H\n",
    "target_MPO = create_MPO(2, 3, 4, target_operator, N, \"target\")\n",
    "psi = tensor_network_apply_op_vec(target_MPO, psi_control, compress=True, contract = True, cutoff = error_tolerance)\n",
    "\n",
    "# psi.draw()\n",
    "# psi"
   ]
  },
  {
   "cell_type": "code",
   "execution_count": 4,
   "id": "12e6fc0b",
   "metadata": {},
   "outputs": [
    {
     "name": "stdout",
     "output_type": "stream",
     "text": [
      "Corresponding Basis terms:\n",
      "0H1V_B 0H1V_A - 10 - [1.-0.j]\n",
      "Corresponding Basis terms:\n",
      "1H0V_B 0H1V_A - 6 - [0.70710678+0.j]\n",
      "0H1V_B 0H1V_A - 10 - [0.70710678+0.j]\n",
      "Corresponding Basis terms:\n",
      "0H0V_B 0H0V_A - 0 - [0.24937552-0.j]\n",
      "1H0V_B 1H0V_A - 5 - [0.01247918+0.j]\n",
      "0H1V_B 0H1V_A - 10 - [-0.01247918-0.j]\n",
      "1H1V_B 1H1V_A - 15 - [-0.00062448-0.j]\n"
     ]
    }
   ],
   "source": [
    "\n",
    "# # First, we implement a beamsplitter. We found this beamsplitter configuration using trial and error to match the Hadamard transformation.\n",
    "# unitary_H = generalized_mode_mixer(np.pi/2, np.pi/2, -np.pi/2, 2*np.pi, N)\n",
    "# # Next, we implement the -pi/2 (single mode) phase shifters on the |V> mode, before and after the beamsplitter. \n",
    "# unitary_H = np.kron(single_mode_phase(-np.pi, N), np.eye(N)) @ unitary_H @ np.kron(single_mode_phase(-np.pi, N), np.eye(N))\n",
    "\n",
    "# print(np.round(unitary_H, 4))\n",
    "\n",
    "read_quantum_state(psi, N, num_states=2)\n",
    "\n",
    "# Testing functions. \n",
    "psi = H(psi, sites=(0,1), N=N, error_tolerance=1e-10)\n",
    "\n",
    "read_quantum_state(psi, N, num_states=2)\n",
    "\n",
    "psi = CNOT((0,1), (2,3), psi, None, N, mean_photon_num, error_tolerance)\n",
    "\n",
    "read_quantum_state(psi, N, num_states=2)"
   ]
  },
  {
   "cell_type": "code",
   "execution_count": 5,
   "id": "48a3d820",
   "metadata": {},
   "outputs": [
    {
     "name": "stdout",
     "output_type": "stream",
     "text": [
      "Corresponding Basis terms:\n",
      "0H0V_D 0H0V_C 0H0V_B 0H0V_A - 0 - [-1.13e-05+0.j]\n",
      "0H0V_D 0H0V_C 1H0V_B 1H0V_A - 5 - [-4.e-07+0.j]\n",
      "0H0V_D 0H0V_C 0H1V_B 1H0V_A - 9 - [-4.e-07+0.j]\n",
      "0H0V_D 1H0V_C 1H0V_B 0H0V_A - 20 - [3.e-07-0.j]\n",
      "0H0V_D 1H0V_C 0H1V_B 0H0V_A - 24 - [-3.e-07-0.j]\n",
      "0H0V_D 0H1V_C 1H0V_B 0H0V_A - 36 - [-3.e-07-0.j]\n",
      "0H0V_D 0H1V_C 0H1V_B 0H0V_A - 40 - [3.e-07+0.j]\n",
      "1H0V_D 1H0V_C 0H0V_B 0H0V_A - 80 - [-4.e-07+0.j]\n",
      "1H0V_D 0H1V_C 0H0V_B 0H0V_A - 96 - [-4.e-07-0.j]\n",
      "0H1V_D 0H0V_C 0H0V_B 0H1V_A - 130 - [6.e-07-0.j]\n"
     ]
    }
   ],
   "source": [
    "vacuum = create_vacuum_state(num_modes=8, N=N)\n",
    "bell_state, _ = light_source(vacuum, N, mean_photon_num, 8, error_tolerance, compress=True, contract=True)\n",
    "\n",
    "ancilla = create_vacuum_state(num_modes=2, N=N)\n",
    "ancillary_initializer = a_H\n",
    "ancillary_MPO = create_MPO(0, 1, 2, ancillary_initializer, N, \"ancilla\")\n",
    "ancilla = tensor_network_apply_op_vec(ancillary_MPO, ancilla, compress=True, contract = True, cutoff = error_tolerance)\n",
    "\n",
    "psi = extend_MPS(ancilla, bell_state)\n",
    "psi = extend_MPS(psi, ancilla)\n",
    "\n",
    "# read_quantum_state(psi, N, num_states=4)\n",
    "\n",
    "psi = H(psi, sites=(0,1), N=N, error_tolerance=1e-10)\n",
    "psi = H(psi, sites=(6,7), N=N, error_tolerance=1e-10)\n",
    "\n",
    "# read_quantum_state(psi, N, num_states=4)\n",
    "\n",
    "psi = CNOT((0,1), (2,3), psi, None, N, mean_photon_num, error_tolerance)\n",
    "psi = CNOT((6 ,7), (4,5), psi, None, N, mean_photon_num, error_tolerance)\n",
    "\n",
    "# DEPOLARIZING NOISE COMES HERE\n",
    "\n",
    "psi = H(psi, sites=(0,1), N=N, error_tolerance=1e-10)\n",
    "psi = H(psi, sites=(6,7), N=N, error_tolerance=1e-10)\n",
    "\n",
    "# read_quantum_state(psi, N, num_states=4)\n",
    "\n",
    "psi = CNOT((0,1), (2,3), psi, None, N, mean_photon_num, error_tolerance)\n",
    "psi = CNOT((6 ,7), (4,5), psi, None, N, mean_photon_num, error_tolerance)\n",
    "\n",
    "read_quantum_state(psi, N, num_states=4, precision = 7)"
   ]
  }
 ],
 "metadata": {
  "kernelspec": {
   "display_name": ".venv",
   "language": "python",
   "name": "python3"
  },
  "language_info": {
   "codemirror_mode": {
    "name": "ipython",
    "version": 3
   },
   "file_extension": ".py",
   "mimetype": "text/x-python",
   "name": "python",
   "nbconvert_exporter": "python",
   "pygments_lexer": "ipython3",
   "version": "3.10.12"
  }
 },
 "nbformat": 4,
 "nbformat_minor": 5
}
