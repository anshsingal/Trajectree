{
 "cells": [
  {
   "cell_type": "markdown",
   "id": "a486f86c",
   "metadata": {},
   "source": [
    "Small, simple example"
   ]
  },
  {
   "cell_type": "code",
   "execution_count": 2,
   "id": "72495713",
   "metadata": {},
   "outputs": [
    {
     "name": "stderr",
     "output_type": "stream",
     "text": [
      "/home/asingal/home/.venv/lib/python3.10/site-packages/numba/np/ufunc/parallel.py:371: NumbaWarning: The TBB threading layer requires TBB version 2021 update 6 or later i.e., TBB_INTERFACE_VERSION >= 12060. Found TBB_INTERFACE_VERSION = 12050. The TBB threading layer is disabled.\n",
      "  warnings.warn(problem)\n",
      "/home/asingal/home/.venv/lib/python3.10/site-packages/cotengra/hyperoptimizers/hyper.py:33: UserWarning: Couldn't import `kahypar` - skipping from default hyper optimizer and using basic `labels` method instead.\n",
      "  warnings.warn(\n"
     ]
    }
   ],
   "source": [
    "from trajectree.fock_optics.utils import create_vacuum_state\n",
    "from trajectree.fock_optics.measurement import create_threshold_POVM_OP_Dense, rotate_and_measure, create_PNR_POVM_OP_Dense\n",
    "from trajectree.fock_optics.outputs import read_quantum_state\n",
    "from trajectree.fock_optics.noise_models import depolarizing_operators\n",
    "from trajectree.fock_optics.devices import rx, rz, ry, global_phase\n",
    "\n",
    "from trajectree.trajectory import trajectory_evaluator, quantum_channel\n",
    "\n",
    "import numpy as np\n",
    "import qutip as qt\n",
    "from scipy import sparse as sp\n",
    "from quimb.tensor.tensor_arbgeom import tensor_network_apply_op_vec #type: ignore\n",
    "from quimb.tensor import MatrixProductOperator as mpo #type: ignore"
   ]
  },
  {
   "cell_type": "code",
   "execution_count": 3,
   "id": "d3262d65",
   "metadata": {},
   "outputs": [],
   "source": [
    "def create_perfect_H_state(N=2, error_tolerance = 1e-10):\n",
    "    # Defining the control and target inputs here\n",
    "    a_dag = qt.create(N).full()\n",
    "    I = qt.identity(N).full()\n",
    "\n",
    "    a_H = np.kron(I, a_dag)\n",
    "    a_V = np.kron(a_dag, I)\n",
    "\n",
    "    # Testing the case with only one MPS for both control and target\n",
    "    vacuum = create_vacuum_state(num_modes=2, N=N)\n",
    "    pure_H_operator = a_H\n",
    "    pure_H_operator_MPO = mpo.from_dense(pure_H_operator, dims = N, sites = (0,1), L=2, tags=\"ideal_state\")    \n",
    "    psi = tensor_network_apply_op_vec(pure_H_operator_MPO, vacuum, compress=True, contract = True, cutoff = error_tolerance)\n",
    "    return psi"
   ]
  },
  {
   "cell_type": "code",
   "execution_count": 4,
   "id": "20d7cd93",
   "metadata": {},
   "outputs": [
    {
     "name": "stdout",
     "output_type": "stream",
     "text": [
      "Corresponding Basis terms:\n",
      "1H0V_A - 1 - [1.+0.j]\n"
     ]
    }
   ],
   "source": [
    "N = 2\n",
    "psi = create_perfect_H_state(N)\n",
    "read_quantum_state(psi, N, num_states=1)"
   ]
  },
  {
   "cell_type": "code",
   "execution_count": 5,
   "id": "e17627d5",
   "metadata": {},
   "outputs": [
    {
     "name": "stdout",
     "output_type": "stream",
     "text": [
      "depolarization operators\n",
      "[[0.71 0.   0.   0.  ]\n",
      " [0.   0.71 0.   0.  ]\n",
      " [0.   0.   0.71 0.  ]\n",
      " [0.   0.   0.   0.71]]\n",
      "[[0.5+0.j  0. +0.j  0. +0.j  0. +0.j ]\n",
      " [0. +0.j  0. +0.j  0. -0.5j 0. +0.j ]\n",
      " [0. +0.j  0. -0.5j 0. +0.j  0. +0.j ]\n",
      " [0. +0.j  0. +0.j  0. +0.j  0.5+0.j ]]\n",
      "[[ 0.32+0.j  0.  +0.j  0.  +0.j  0.  +0.j]\n",
      " [ 0.  +0.j  0.  +0.j -0.32+0.j  0.  +0.j]\n",
      " [ 0.  +0.j  0.32+0.j  0.  +0.j  0.  +0.j]\n",
      " [ 0.  +0.j  0.  +0.j  0.  +0.j  0.32+0.j]]\n",
      "[[0.39+0.j   0.  +0.j   0.  +0.j   0.  +0.j  ]\n",
      " [0.  +0.j   0.  -0.39j 0.  +0.j   0.  +0.j  ]\n",
      " [0.  +0.j   0.  +0.j   0.  +0.39j 0.  +0.j  ]\n",
      " [0.  +0.j   0.  +0.j   0.  +0.j   0.39+0.j  ]]\n",
      "Not MPO\n",
      "[[1.+0.j 0.+0.j 0.+0.j 0.+0.j]\n",
      " [0.+0.j 0.+0.j 0.-1.j 0.+0.j]\n",
      " [0.+0.j 0.-1.j 0.+0.j 0.+0.j]\n",
      " [0.+0.j 0.+0.j 0.+0.j 1.+0.j]]\n",
      "Phase flip operators\n",
      "[[0.71+0.j   0.  +0.j   0.  +0.j   0.  +0.j  ]\n",
      " [0.  +0.j   0.  -0.71j 0.  +0.j   0.  +0.j  ]\n",
      " [0.  +0.j   0.  +0.j   0.  +0.71j 0.  +0.j  ]\n",
      " [0.  +0.j   0.  +0.j   0.  +0.j   0.71+0.j  ]]\n",
      "[[0.71+0.j 0.  +0.j 0.  +0.j 0.  +0.j]\n",
      " [0.  +0.j 0.71+0.j 0.  +0.j 0.  +0.j]\n",
      " [0.  +0.j 0.  +0.j 0.71+0.j 0.  +0.j]\n",
      " [0.  +0.j 0.  +0.j 0.  +0.j 0.71+0.j]]\n",
      "Initial state\n",
      "[[0.+0.j]\n",
      " [1.+0.j]\n",
      " [0.+0.j]\n",
      " [0.+0.j]]\n"
     ]
    }
   ],
   "source": [
    "depol_ops = depolarizing_operators(0.5, N, bias = (5/10, 2/10, 3/10))\n",
    "NOT_MPO = rx(np.pi, N, return_unitary = False, site1 = 0, site2 = 1, total_sites=2)\n",
    "phase_flip_ops = [np.sqrt(0.5) * sp.csr_matrix(rz(np.pi, N, return_unitary = True, site1 = 0, site2 = 1, total_sites = 2)), \n",
    "                  np.sqrt(0.5) * sp.csr_matrix(global_phase(0, N, return_unitary = True, site1 = 0, site2 = 1, total_sites = 2))]\n",
    "RY_MPO = ry(np.pi, N, return_unitary = False, site1 = 0, site2 = 1, total_sites=2)\n",
    "\n",
    "print(\"depolarization operators\")\n",
    "print(np.round(depol_ops[0].toarray(), 2))\n",
    "print(np.round(depol_ops[1].toarray(), 2))\n",
    "print(np.round(depol_ops[2].toarray(), 2))\n",
    "print(np.round(depol_ops[3].toarray(), 2))\n",
    "print(\"Not MPO\")\n",
    "print(np.round(NOT_MPO.to_dense(), 2))\n",
    "print(\"Phase flip operators\")\n",
    "print(np.round(phase_flip_ops[0].toarray(), 2))\n",
    "print(np.round(phase_flip_ops[1].toarray(), 2))\n",
    "print(\"Initial state\")\n",
    "print(psi.to_dense())"
   ]
  },
  {
   "cell_type": "code",
   "execution_count": null,
   "id": "f248f9d3",
   "metadata": {},
   "outputs": [
    {
     "data": {
      "text/plain": [
       "[<trajectree.trajectory.quantum_channel at 0x7f4bb71997b0>,\n",
       " <trajectree.trajectory.quantum_channel at 0x7f4bb719a890>,\n",
       " <trajectree.trajectory.quantum_channel at 0x7f4bb719b640>,\n",
       " <trajectree.trajectory.quantum_channel at 0x7f4bb719b550>]"
      ]
     },
     "execution_count": 6,
     "metadata": {},
     "output_type": "execute_result"
    }
   ],
   "source": [
    "quantum_channel_list = []\n",
    "quantum_channel_list.append(quantum_channel(N = N, num_modes = 2, formalism = \"kraus\", kraus_ops_tuple = ((0,1), depol_ops), name = \"depolarization\"))\n",
    "quantum_channel_list.append(quantum_channel(N = N, num_modes = 2, formalism = \"closed\", unitary_MPOs = NOT_MPO))\n",
    "quantum_channel_list.append(quantum_channel(N = N, num_modes = 2, formalism = \"kraus\", kraus_ops_tuple = ((0,1), phase_flip_ops), name = \"Phase flip\"))\n",
    "quantum_channel_list.append(quantum_channel(N = N, num_modes = 2, formalism = \"closed\", unitary_MPOs = RY_MPO))\n",
    "# quantum_channel_list\n",
    "evaluator = trajectory_evaluator(quantum_channels = quantum_channel_list)\n"
   ]
  },
  {
   "cell_type": "markdown",
   "id": "38121023",
   "metadata": {},
   "source": [
    "Here, we expect the output density matrix from the depolarization channel to be: \n",
    "\n",
    "$\n",
    "\\sqrt{0.5} * \\ket{1H}\\bra{1H} +\\\\\n",
    "-1j * \\sqrt{0.25} * \\ket{1V}\\bra{1V} +\\\\\n",
    "\\sqrt{0.1} * \\ket{1V}\\bra{1V} + \\\\\n",
    "-1j * \\sqrt{0.15} * \\ket{1H}\\bra{1H} \\\\\n",
    "=\\\\\n",
    "0.71  * \\ket{1H}\\bra{1H} +\\\\\n",
    "-0.5j * \\ket{1V}\\bra{1V} +\\\\\n",
    ".32 * \\ket{1V}\\bra{1V} +\\\\ \n",
    "-.387j * \\ket{1H}\\bra{1H}\\\\\n",
    "$\n",
    "and after the RX, the DM becomes:<br>\n",
    "$\n",
    "-0.71j * \\ket{1V}\\bra{1V} +\\\\\n",
    "-0.5 *   \\ket{1H}\\bra{1H} +\\\\\n",
    "-.32j *  \\ket{1H}\\bra{1H} + \\\\\n",
    "-.387  *  \\ket{1V}\\bra{1V}\\\\\n",
    "$\n",
    "After the dephasing channel, the DM becomes:<br>\n",
    "$\n",
    "(0,0)~~ 0.5 \\ket{1V}\\bra{1V} +\\\\ \n",
    "(1,0)~~ 0.3535j \\ket{1H}\\bra{1H} +\\\\ \n",
    "(2,0)~~ -0.226 \\ket{1H}\\bra{1H} +\\\\\n",
    "(3,0)~~ -.273j \\ket{1V}\\bra{1V} +\\\\ \n",
    "(0,1)~~ -0.5j \\ket{1V}\\bra{1V} +\\\\\n",
    "(1,1)~~ -0.3535 \\ket{1H}\\bra{1H} +\\\\\n",
    "(2,1)~~ -.226j \\ket{1H}\\bra{1H} +\\\\\n",
    "(3,1)~~ -.273 \\ket{1V}\\bra{1V} +\\\\\n",
    "$\n",
    "After the Y gate, the DM becomes:<br>\n",
    "$\n",
    "(0,0)~~ -0.5 \\ket{1H}\\bra{1H} +\\\\ \n",
    "(1,0)~~ 0.3535j \\ket{1V}\\bra{1V} +\\\\ \n",
    "(2,0)~~ -0.226 \\ket{1V}\\bra{1V} +\\\\\n",
    "(3,0)~~ .273j \\ket{1H}\\bra{1H} +\\\\ \n",
    "(0,1)~~ 0.5j \\ket{1H}\\bra{1H} +\\\\\n",
    "(1,1)~~ -0.3535 \\ket{1V}\\bra{1V} +\\\\\n",
    "(2,1)~~ -.226j \\ket{1V}\\bra{1V} +\\\\\n",
    "(3,1)~~ .273 \\ket{1H}\\bra{1H} +\\\\\n",
    "$"
   ]
  },
  {
   "cell_type": "code",
   "execution_count": 6,
   "id": "77b69c18",
   "metadata": {},
   "outputs": [
    {
     "name": "stdout",
     "output_type": "stream",
     "text": [
      "Corresponding Basis terms:\n",
      "1H0V_A - 1 - [-0.5+0.j]\n",
      "Corresponding Basis terms:\n",
      "0H1V_A - 2 - [-0.+0.35355339j]\n",
      "Corresponding Basis terms:\n",
      "0H1V_A - 2 - [-0.2236068-0.j]\n",
      "Corresponding Basis terms:\n",
      "1H0V_A - 1 - [0.+0.27386128j]\n",
      "Corresponding Basis terms:\n",
      "1H0V_A - 1 - [0.+0.5j]\n",
      "Corresponding Basis terms:\n",
      "0H1V_A - 2 - [-0.35355339+0.j]\n",
      "Corresponding Basis terms:\n",
      "0H1V_A - 2 - [-0.-0.2236068j]\n",
      "Corresponding Basis terms:\n",
      "1H0V_A - 1 - [0.27386128+0.j]\n",
      "7 5 4\n"
     ]
    }
   ],
   "source": [
    "psi_new = evaluator.perform_simulation(psi, error_tolerance = 1e-10, cache = True, trajectree_indices = [0,0], normalize = False)\n",
    "read_quantum_state(psi_new, N, num_states=1)\n",
    "psi_new = evaluator.perform_simulation(psi, error_tolerance = 1e-10, cache = True, trajectree_indices = [1,0], normalize = False)\n",
    "read_quantum_state(psi_new, N, num_states=1)\n",
    "psi_new = evaluator.perform_simulation(psi, error_tolerance = 1e-10, cache = True, trajectree_indices = [2,0], normalize = False)\n",
    "read_quantum_state(psi_new, N, num_states=1)\n",
    "psi_new = evaluator.perform_simulation(psi, error_tolerance = 1e-10, cache = True, trajectree_indices = [3,0], normalize = False)\n",
    "read_quantum_state(psi_new, N, num_states=1)\n",
    "psi_new = evaluator.perform_simulation(psi, error_tolerance = 1e-10, cache = True, trajectree_indices = [0,1], normalize = False)\n",
    "read_quantum_state(psi_new, N, num_states=1)\n",
    "psi_new = evaluator.perform_simulation(psi, error_tolerance = 1e-10, cache = True, trajectree_indices = [1,1], normalize = False)\n",
    "read_quantum_state(psi_new, N, num_states=1)\n",
    "psi_new = evaluator.perform_simulation(psi, error_tolerance = 1e-10, cache = True, trajectree_indices = [2,1], normalize = False)\n",
    "read_quantum_state(psi_new, N, num_states=1)\n",
    "psi_new = evaluator.perform_simulation(psi, error_tolerance = 1e-10, cache = True, trajectree_indices = [3,1], normalize = False)\n",
    "read_quantum_state(psi_new, N, num_states=1)\n",
    "\n",
    "print(evaluator.cache_hit, evaluator.cache_miss, evaluator.cache_partial_hit)"
   ]
  },
  {
   "cell_type": "code",
   "execution_count": 20,
   "id": "4a35c93e",
   "metadata": {},
   "outputs": [
    {
     "name": "stdout",
     "output_type": "stream",
     "text": [
      "Corresponding Basis terms:\n",
      "0H1V_A - 2 - [-0.35355339+0.j]\n"
     ]
    }
   ],
   "source": [
    "psi_new = evaluator.perform_simulation(psi, error_tolerance = 1e-10, cache = True, normalize = False)\n",
    "read_quantum_state(psi_new, N, num_states=1)\n"
   ]
  },
  {
   "cell_type": "markdown",
   "id": "f6eacc0c",
   "metadata": {},
   "source": [
    "Swapping simulations:"
   ]
  },
  {
   "cell_type": "code",
   "execution_count": 1,
   "id": "80090a58",
   "metadata": {},
   "outputs": [],
   "source": [
    "from trajectree.sequence.swap import perform_swapping_simulation\n",
    "# import trajectree\n",
    "\n",
    "import numpy as np\n",
    "from matplotlib import pyplot as plt"
   ]
  },
  {
   "cell_type": "code",
   "execution_count": 5,
   "id": "a8f68cfd",
   "metadata": {},
   "outputs": [
    {
     "name": "stderr",
     "output_type": "stream",
     "text": [
      "C:\\Users\\anshs\\OneDrive - Northwestern University\\Study\\Argonne\\QCE25\\Trajectree\\trajectree\\fock_optics\\measurement.py:84: LinAlgWarning: Matrix is singular. The result might be inaccurate or the array might not have a square root.\n",
      "  dense_op = sqrtm(create_threshold_POVM_OP_Dense(efficiency, outcome, N)).astype(np.complex128)\n"
     ]
    },
    {
     "name": "stdout",
     "output_type": "stream",
     "text": [
      "trajectory_probs [1.]\n",
      "trajectory_probs [1.]\n",
      "trajectory_probs [9.43729766e-01 2.69904807e-02 7.37107472e-04 2.69905007e-02\n",
      " 7.71884510e-04 2.10730941e-05 7.37107874e-04 2.10693882e-05\n",
      " 5.73300612e-07]\n",
      "trajectory_probs [8.90742284e-01 2.54161074e-02 6.94852873e-04 2.54160866e-02\n",
      " 7.25193429e-04 1.98367250e-05 6.94832567e-04 1.98217130e-05\n",
      " 5.47350817e-07]\n",
      "trajectory_probs [8.90687218e-01 2.74196768e-05 7.79324779e-10 2.74196780e-05\n",
      " 8.44110873e-10 2.39914018e-14 7.79324765e-10 2.39914022e-14\n",
      " 6.81885914e-19]\n",
      "trajectory_probs [8.90632191e-01 2.74179817e-05 7.79276627e-10 2.74179807e-05\n",
      " 8.44058559e-10 2.39899211e-14 7.79276720e-10 2.39899228e-14\n",
      " 6.81843789e-19]\n",
      "trajectory_probs [2.54161445e-02 7.25216466e-04 1.98312639e-05 7.85039704e-04\n",
      " 2.23903683e-05 6.11404458e-07 2.06712884e-05 5.77764587e-07\n",
      " 1.41152424e-08]\n",
      "trajectory_probs [2.54145552e-02 7.82383101e-07 2.22369771e-11 8.04100473e-07\n",
      " 2.47541064e-11 7.03563580e-16 2.16211643e-11 6.65604175e-16\n",
      " 1.89178832e-20]\n",
      "trajectory_probs [2.54129832e-02 7.82334718e-07 2.22356075e-11 7.84053412e-07\n",
      " 2.41369715e-11 6.86022960e-16 2.21825340e-11 6.82885793e-16\n",
      " 1.94090567e-20]\n",
      "trajectory_probs [7.25171093e-04 2.23738148e-08 6.32987792e-13 2.29442986e-08\n",
      " 7.07914507e-13 2.00275118e-17 6.16921314e-13 1.90336506e-17\n",
      " 5.38502336e-22]\n",
      "trajectory_probs [7.25125724e-04 2.29427758e-08 6.16885339e-13 2.23727185e-08\n",
      " 7.07874100e-13 1.90328895e-17 6.32946855e-13 2.00262182e-17\n",
      " 5.38467462e-22]\n",
      "trajectory_probs [2.54145164e-02 7.82380877e-07 2.22369655e-11 7.84102155e-07\n",
      " 2.41384642e-11 6.86065442e-16 2.21839090e-11 6.82927979e-16\n",
      " 1.94102538e-20]\n",
      "trajectory_probs [2.54129282e-02 7.82331811e-07 2.22355801e-11 8.04047298e-07\n",
      " 2.47523977e-11 7.03518707e-16 2.16198304e-11 6.65563105e-16\n",
      " 1.89167145e-20]\n",
      "trajectory_probs [2.54145372e-02 7.84101516e-07 2.21839119e-11 7.82382138e-07\n",
      " 2.41384412e-11 6.82928433e-16 2.22369847e-11 6.86065463e-16\n",
      " 1.94102670e-20]\n",
      "trajectory_probs [2.54129490e-02 8.04049152e-07 2.16198127e-11 7.82333824e-07\n",
      " 2.47525222e-11 6.65563003e-16 2.22355851e-11 7.03519148e-16\n",
      " 1.89167106e-20]\n",
      "trajectory_probs [2.54161363e-02 7.85032935e-04 2.06702145e-05 7.25223747e-04\n",
      " 2.23888854e-05 5.70572154e-07 1.98371323e-05 6.10799727e-07\n",
      " 8.40556520e-09]\n",
      "trajectory_probs [2.54145462e-02 8.04099836e-07 2.16211702e-11 7.82382487e-07\n",
      " 2.47540705e-11 6.65604243e-16 2.22369766e-11 7.03563485e-16\n",
      " 1.89178879e-20]\n",
      "trajectory_probs [2.54129761e-02 7.84053065e-07 2.21825292e-11 7.82334190e-07\n",
      " 2.41369282e-11 6.82885629e-16 2.22355970e-11 6.86022445e-16\n",
      " 1.94090522e-20]\n",
      "completed set cache_hits: 869 cache_partial_hits: 13 cache_misses: 18 time taken: 0.020172119140625\n",
      "[0.0006451485971960992, 0.0006451485971960992, 0.0006451485971960992, 0.0006451485971960992, 0.0006451485971960992, 0.0006451485971960992, 0.0006451485971960992, 0.0006451485971960992, 0.0006451485971960992, 0.0006451485971960992, 0.0006451485971960992, 0.0006451485971960992, 1.9494897272067674e-05, 0.0006451485971960992, 0.0006451485971960992, 0.0006451485971960992, 0.0006451485971960992, 0.0006451485971960992, 0.0006451485971960992, 0.0006451485971960992, 0.0006451485971960992, np.complex128(1.1061400226317763e-06-5.795634610449095e-69j), 0.0006451485971960992, 0.0006451485971960992, 0.0006451485971960992, 0.0006451485971960992, 0.0006451485971960992, 0.0006451485971960992, 0.0006451485971960992, 0.0006451485971960992, 3.63140239041711e-05, 0.0006451485971960992, np.complex128(1.1061400226317763e-06-5.795634610449095e-69j), 0.0006451485971960992, 0.0006451485971960992, 0.0006451485971960992, 0.0006451485971960992, 0.0006451485971960992, 3.63140239041711e-05, 0.0006451485971960992, 0.0006451485971960992, 3.63140239041711e-05, np.complex128(3.634699376760794e-05+1.4823076576950252e-21j), 0.0006451485971960992, 0.0006451485971960992, 0.0006451485971960992, 3.63140239041711e-05, 1.950680250121713e-05, 0.0006451485971960992, 0.0006451485971960992, 0.0006451485971960992, 0.0006451485971960992, 0.0006451485971960992, 0.0006451485971960992, 0.0006451485971960992, 0.0006451485971960992, 0.0006451485971960992, 0.0006451485971960992, 0.0006451485971960992, 0.0006451485971960992, 0.0006451485971960992, 0.0006451485971960992, 0.0006451485971960992, 0.0006451485971960992, 0.0006451485971960992, 0.0006451485971960992, 1.9494897272067674e-05, 1.950680250121713e-05, 0.0006451485971960992, 0.0006451485971960992, 0.0006451485971960992, 0.0006451485971960992, 0.0006451485971960992, 0.0006451485971960992, 0.0006451485971960992, 0.0006451485971960992, 0.0006451485971960992, 0.0006451485971960992, 0.0006451485971960992, 0.0006451485971960992, 0.0006451485971960992, np.complex128(3.634699376760794e-05+1.4823076576950252e-21j), 0.0006451485971960992, 0.0006451485971960992, 0.0006451485971960992, 1.950680250121713e-05, 0.0006451485971960992, 0.0006451485971960992, 0.0006451485971960992, 3.63140239041711e-05, 0.0006451485971960992, 0.0006451485971960992, 0.0006451485971960992, 0.0006451485971960992, 0.0006451485971960992, 0.0006451485971960992, 0.0006451485971960992, 0.0006451485971960992, 0.0006451485971960992, 0.0006451485971960992, 0.0006451485971960992, 0.0006451485971960992, 0.0006451485971960992, 0.0006451485971960992, 3.63140239041711e-05, 0.0006451485971960992, 0.0006451485971960992, 0.0006451485971960992, 0.0006451485971960992, 0.0006451485971960992, 0.0006451485971960992, 0.0006451485971960992, 0.0006451485971960992, 0.0006451485971960992, 0.0006451485971960992, 0.0006451485971960992, 0.0006451485971960992, np.complex128(3.634699376760794e-05+1.4823076576950252e-21j), 0.0006451485971960992, np.complex128(1.1061400226317763e-06-5.795634610449095e-69j), 0.0006451485971960992, 0.0006451485971960992, 0.0006451485971960992, 0.0006451485971960992, 0.0006451485971960992, 0.0006451485971960992, 0.0006451485971960992, 0.0006451485971960992, 0.0006451485971960992, np.complex128(3.634699376760794e-05+1.4823076576950252e-21j), 0.0006451485971960992, np.complex128(3.634699376760794e-05+1.4823076576950252e-21j), np.complex128(3.634699376760794e-05+1.4823076576950252e-21j), 0.0006451485971960992, 0.0006451485971960992, 0.0006451485971960992, 0.0006451485971960992, 0.0006451485971960992, 0.0006451485971960992, 0.0006451485971960992, 0.0006451485971960992, 0.0006451485971960992, 0.0006451485971960992, 0.0006451485971960992, 0.0006451485971960992, 0.0006451485971960992, 0.0006451485971960992, 0.0006451485971960992, 3.63140239041711e-05, 0.0006451485971960992]\n",
      "trajectory_probs [1.]\n",
      "trajectory_probs [1.]\n",
      "trajectory_probs [9.43729766e-01 2.69904807e-02 7.37107472e-04 2.69905007e-02\n",
      " 7.71884510e-04 2.10730941e-05 7.37107874e-04 2.10693882e-05\n",
      " 5.73300612e-07]\n",
      "trajectory_probs [8.90742284e-01 2.54161074e-02 6.94852873e-04 2.54160866e-02\n",
      " 7.25193429e-04 1.98367250e-05 6.94832567e-04 1.98217130e-05\n",
      " 5.47350817e-07]\n",
      "trajectory_probs [8.90687218e-01 2.74196768e-05 7.79324779e-10 2.74196780e-05\n",
      " 8.44110873e-10 2.39914018e-14 7.79324765e-10 2.39914022e-14\n",
      " 6.81885914e-19]\n",
      "trajectory_probs [8.90632191e-01 2.74179817e-05 7.79276627e-10 2.74179807e-05\n",
      " 8.44058559e-10 2.39899211e-14 7.79276720e-10 2.39899228e-14\n",
      " 6.81843789e-19]\n",
      "trajectory_probs [2.54145372e-02 7.84101516e-07 2.21839119e-11 7.82382138e-07\n",
      " 2.41384412e-11 6.82928433e-16 2.22369847e-11 6.86065463e-16\n",
      " 1.94102670e-20]\n",
      "trajectory_probs [2.54129490e-02 8.04049152e-07 2.16198127e-11 7.82333824e-07\n",
      " 2.47525222e-11 6.65563003e-16 2.22355851e-11 7.03519148e-16\n",
      " 1.89167106e-20]\n",
      "trajectory_probs [2.54161363e-02 7.85032935e-04 2.06702145e-05 7.25223747e-04\n",
      " 2.23888854e-05 5.70572154e-07 1.98371323e-05 6.10799727e-07\n",
      " 8.40556520e-09]\n",
      "trajectory_probs [2.54145462e-02 8.04099836e-07 2.16211702e-11 7.82382487e-07\n",
      " 2.47540705e-11 6.65604243e-16 2.22369766e-11 7.03563485e-16\n",
      " 1.89178879e-20]\n",
      "trajectory_probs [2.54129761e-02 7.84053065e-07 2.21825292e-11 7.82334190e-07\n",
      " 2.41369282e-11 6.82885629e-16 2.22355970e-11 6.86022445e-16\n",
      " 1.94090522e-20]\n",
      "trajectory_probs [2.54161445e-02 7.25216466e-04 1.98312639e-05 7.85039704e-04\n",
      " 2.23903683e-05 6.11404458e-07 2.06712884e-05 5.77764587e-07\n",
      " 1.41152424e-08]\n",
      "trajectory_probs [2.54145552e-02 7.82383101e-07 2.22369771e-11 8.04100473e-07\n",
      " 2.47541064e-11 7.03563580e-16 2.16211643e-11 6.65604175e-16\n",
      " 1.89178832e-20]\n",
      "trajectory_probs [2.54129832e-02 7.82334718e-07 2.22356075e-11 7.84053412e-07\n",
      " 2.41369715e-11 6.86022960e-16 2.21825340e-11 6.82885793e-16\n",
      " 1.94090567e-20]\n",
      "trajectory_probs [2.54145164e-02 7.82380877e-07 2.22369655e-11 7.84102155e-07\n",
      " 2.41384642e-11 6.86065442e-16 2.21839090e-11 6.82927979e-16\n",
      " 1.94102538e-20]\n",
      "trajectory_probs [2.54129282e-02 7.82331811e-07 2.22355801e-11 8.04047298e-07\n",
      " 2.47523977e-11 7.03518707e-16 2.16198304e-11 6.65563105e-16\n",
      " 1.89167145e-20]\n",
      "completed set cache_hits: 876 cache_partial_hits: 8 cache_misses: 16 time taken: 0.03952360153198242\n",
      "[0.0006451485971960992, 0.0006451485971960992, 0.0006451485971960992, 0.0006451485971960992, 0.0006451485971960992, 0.0006451485971960992, 0.0006451485971960992, 0.0006451485971960992, 0.0006451485971960992, np.complex128(3.634699376760794e-05+1.4823076576950252e-21j), 0.0006451485971960992, 0.0006451485971960992, 0.0006451485971960992, 0.0006451485971960992, 0.0006451485971960992, 0.0006451485971960992, 0.0006451485971960992, 0.0006451485971960992, 0.0006451485971960992, 1.950680250121713e-05, 0.0006451485971960992, 0.0006451485971960992, 0.0006451485971960992, 0.0006451485971960992, 0.0006451485971960992, 0.0006451485971960992, 0.0006451485971960992, 0.0006451485971960992, 0.0006451485971960992, 0.0006451485971960992, 0.0006451485971960992, 0.0006451485971960992, 0.0006451485971960992, np.complex128(3.634699376760794e-05+1.4823076576950252e-21j), 0.0006451485971960992, 0.0006451485971960992, 0.0006451485971960992, 0.0006451485971960992, 0.0006451485971960992, 0.0006451485971960992, 1.9494897272067674e-05, 1.9494897272067674e-05, 0.0006451485971960992, 0.0006451485971960992, 0.0006451485971960992, 0.0006451485971960992, 1.9494897272067674e-05, 0.0006451485971960992, 0.0006451485971960992, 1.950680250121713e-05, 0.0006451485971960992, 1.950680250121713e-05, np.complex128(3.634699376760794e-05+1.4823076576950252e-21j), 0.0006451485971960992, 1.950680250121713e-05, 0.0006451485971960992, 0.0006451485971960992, 0.0006451485971960992, 0.0006451485971960992, 0.0006451485971960992, 0.0006451485971960992, 0.0006451485971960992, 0.0006451485971960992, 1.9494897272067674e-05, 0.0006451485971960992, 0.0006451485971960992, 0.0006451485971960992, 0.0006451485971960992, 0.0006451485971960992, 0.0006451485971960992, 0.0006451485971960992, 0.0006451485971960992, 0.0006451485971960992, 0.0006451485971960992, 0.0006451485971960992, 0.0006451485971960992, 1.950680250121713e-05, 0.0006451485971960992, 0.0006451485971960992, 0.0006451485971960992, 0.0006451485971960992, 0.0006451485971960992, 0.0006451485971960992, 0.0006451485971960992, 0.0006451485971960992, 0.0006451485971960992, 0.0006451485971960992, 0.0006451485971960992, 0.0006451485971960992, 1.9494897272067674e-05, 0.0006451485971960992, 0.0006451485971960992, 0.0006451485971960992, 0.0006451485971960992, 0.0006451485971960992, 0.0006451485971960992, 0.0006451485971960992, 0.0006451485971960992, 0.0006451485971960992, 1.950680250121713e-05, 0.0006451485971960992, 0.0006451485971960992, 0.0006451485971960992, 0.0006451485971960992, 0.0006451485971960992, 0.0006451485971960992, 0.0006451485971960992, 0.0006451485971960992, 0.0006451485971960992, 0.0006451485971960992, 0.0006451485971960992, 0.0006451485971960992, 0.0006451485971960992, 0.0006451485971960992, 0.0006451485971960992, 0.0006451485971960992, 0.0006451485971960992, 0.0006451485971960992, 0.0006451485971960992, 0.0006451485971960992, 0.0006451485971960992, 0.0006451485971960992, 0.0006451485971960992, 0.0006451485971960992, 0.0006451485971960992, 0.0006451485971960992, np.complex128(3.634699376760794e-05+1.4823076576950252e-21j), 1.9494897272067674e-05, 0.0006451485971960992, 0.0006451485971960992, 1.9494897272067674e-05, 0.0006451485971960992, 0.0006451485971960992, 0.0006451485971960992, 1.950680250121713e-05, 0.0006451485971960992, 0.0006451485971960992, 0.0006451485971960992, 0.0006451485971960992, 0.0006451485971960992, 0.0006451485971960992, 0.0006451485971960992, 0.0006451485971960992, 3.63140239041711e-05, 0.0006451485971960992, 0.0006451485971960992, 0.0006451485971960992, 0.0006451485971960992, 0.0006451485971960992, 0.0006451485971960992]\n"
     ]
    }
   ],
   "source": [
    "# Set simulation params\n",
    "trunc = 2\n",
    "N = trunc+1\n",
    "error_tolerance = 1e-7\n",
    "\n",
    "params = {\n",
    "    \"PA_det_eff\": 0.5,\n",
    "    \"BSM_det_loss_1\": 0.5, #  0.045,\n",
    "    \"BSM_det_loss_2\": 0.5, # 0.135,\n",
    "    \"BSM_dark_counts_1\": 1,\n",
    "    \"BSM_dark_counts_2\": 1,\n",
    "    \"alpha_list\": np.array([np.pi/2]),\n",
    "    \"delta_list\": np.array([np.pi/2]),\n",
    "    \"channel_loss\": 0,\n",
    "    \"chi\": 0.24,\n",
    "    \"BSM_meas\": {0:(2,3), 1:(6,7)},\n",
    "\n",
    "    \"if_analyze_entanglement\": False,\n",
    "    \"calc_fidelity\": True,\n",
    "}\n",
    "\n",
    "num_modes = 8\n",
    "# Create vacuum state\n",
    " \n",
    "# idler_angles = np.linspace(0, np.pi, 1)\n",
    "# signal_angles = np.linspace(0, 4*np.pi, 30)\n",
    "\n",
    "num_simulations = 150\n",
    "visibilities = []\n",
    "\n",
    "cache_sizes = [2]\n",
    "\n",
    "for i in [3e-5]: # np.linspace(0.1, 0.5, 5):\n",
    "    prob_same_phase = 0\n",
    "    prob_diff_phase = 0\n",
    "\n",
    "    # params['chi'] = i\n",
    "    params[\"BSM_dark_counts_1\"] = 1+i\n",
    "    params[\"BSM_dark_counts_2\"] = 1+i\n",
    "\n",
    "    params[\"alpha_list\"] = np.array([np.pi/2])\n",
    "\n",
    "    fidelities, probabilities, t_eval = perform_swapping_simulation(N, num_modes, num_simulations, params = params, error_tolerance = error_tolerance)\n",
    "    print(probabilities)\n",
    "    prob_same_phase += np.mean(probabilities)\n",
    "\n",
    "    params[\"alpha_list\"] = np.array([3*np.pi/2])\n",
    "\n",
    "    fidelities, probabilities, t_eval = perform_swapping_simulation(N, num_modes, num_simulations, params = params, error_tolerance = error_tolerance)\n",
    "    print(probabilities)\n",
    "    prob_diff_phase += np.mean(probabilities)\n",
    "\n",
    "    visibilities.append((prob_same_phase - prob_diff_phase) / (prob_same_phase + prob_diff_phase))\n",
    "# params[\"BSM_meas\"] = {1:(2,3), 0:(6,7)}\n",
    "\n",
    "# fidelities, probabilities, t_eval = perform_swapping_simulation(N, num_modes, num_simulations, params = params, error_tolerance = error_tolerance)\n",
    "# prob_diff_phase += np.mean(probabilities)\n",
    "\n",
    "# params[\"alpha_list\"] = np.array([np.pi/2])\n",
    "\n",
    "# fidelities, probabilities, t_eval = perform_swapping_simulation(N, num_modes, num_simulations, params = params, error_tolerance = error_tolerance)\n",
    "# prob_same_phase += np.mean(probabilities)"
   ]
  },
  {
   "cell_type": "code",
   "execution_count": 6,
   "id": "917a4301",
   "metadata": {},
   "outputs": [
    {
     "name": "stdout",
     "output_type": "stream",
     "text": [
      "[np.complex128(-0.006943929227227413+1.8176275948841466e-20j)]\n"
     ]
    },
    {
     "data": {
      "image/png": "[encoded data removed]",
      "text/plain": [
       "<Figure size 640x480 with 1 Axes>"
      ]
     },
     "metadata": {},
     "output_type": "display_data"
    }
   ],
   "source": [
    "plt.plot(visibilities[1:])\n",
    "print(visibilities)"
   ]
  },
  {
   "cell_type": "code",
   "execution_count": 4,
   "id": "ab2dd630",
   "metadata": {},
   "outputs": [
    {
     "data": {
      "text/plain": [
       "np.complex128(0.9665257306842052+1.2945563958351387e-20j)"
      ]
     },
     "execution_count": 4,
     "metadata": {},
     "output_type": "execute_result"
    }
   ],
   "source": [
    "(prob_same_phase - prob_diff_phase) / (prob_same_phase + prob_diff_phase)"
   ]
  }
 ],
 "metadata": {
  "kernelspec": {
   "display_name": ".venv",
   "language": "python",
   "name": "python3"
  },
  "language_info": {
   "codemirror_mode": {
    "name": "ipython",
    "version": 3
   },
   "file_extension": ".py",
   "mimetype": "text/x-python",
   "name": "python",
   "nbconvert_exporter": "python",
   "pygments_lexer": "ipython3",
   "version": "3.10.12"
  }
 },
 "nbformat": 4,
 "nbformat_minor": 5
}
