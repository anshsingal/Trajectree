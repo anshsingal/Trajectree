{
 "cells": [
  {
   "cell_type": "markdown",
   "id": "687ff4ab",
   "metadata": {},
   "source": [
    "This file just tests the rotate and measure function in Trajectree. Due to the integral nature of this function in all measurements, it is important that this works correctly. "
   ]
  },
  {
   "cell_type": "code",
   "execution_count": 1,
   "id": "564f7e2f",
   "metadata": {},
   "outputs": [
    {
     "name": "stderr",
     "output_type": "stream",
     "text": [
      "/home/asingal/home/.venv/lib/python3.10/site-packages/numba/np/ufunc/parallel.py:371: NumbaWarning: The TBB threading layer requires TBB version 2021 update 6 or later i.e., TBB_INTERFACE_VERSION >= 12060. Found TBB_INTERFACE_VERSION = 12050. The TBB threading layer is disabled.\n",
      "  warnings.warn(problem)\n",
      "/home/asingal/home/.venv/lib/python3.10/site-packages/cotengra/hyperoptimizers/hyper.py:33: UserWarning: Couldn't import `kahypar` - skipping from default hyper optimizer and using basic `labels` method instead.\n",
      "  warnings.warn(\n"
     ]
    }
   ],
   "source": [
    "from trajectree.fock_optics.utils import create_vacuum_state\n",
    "from trajectree.fock_optics.devices import ry, rx, rz, global_phase\n",
    "from trajectree.fock_optics.measurement import rotate_and_measure\n",
    "from trajectree.fock_optics.outputs import print_quantum_state, read_quantum_state\n",
    "from trajectree.fock_optics.noise_models import single_mode_bosonic_noise_channels, depolarizing_operators, two_qubit_depolarizing_channel\n",
    "\n",
    "from trajectree.trajectory import trajectory_evaluator, quantum_channel\n",
    "\n",
    "import numpy as np\n",
    "from scipy import sparse as sp\n",
    "import qutip as qt\n",
    "from numpy import sqrt\n",
    "from quimb.tensor.tensor_arbgeom import tensor_network_apply_op_vec #type: ignore\n",
    "from quimb.tensor import MatrixProductOperator as mpo #type: ignore\n",
    "\n",
    "import matplotlib.pyplot as plt\n",
    "import matplotlib.animation as animation\n",
    "\n",
    "import copy\n",
    "from IPython.display import HTML"
   ]
  },
  {
   "cell_type": "code",
   "execution_count": 2,
   "id": "9172f7a5",
   "metadata": {},
   "outputs": [],
   "source": [
    "def create_perfect_bell_state(N=3, error_tolerance = 1e-10):\n",
    "    # Defining the control and target inputs here\n",
    "    a_dag = qt.create(N).full()\n",
    "    I = qt.identity(N).full()\n",
    "\n",
    "    a_H = np.kron(a_dag, I)\n",
    "    a_V = np.kron(I, a_dag)\n",
    "\n",
    "    # Testing the case with only one MPS for both control and target\n",
    "    vacuum = create_vacuum_state(num_modes=4, N=N)\n",
    "    pure_EPPS_operator = 1/sqrt(2) * (np.kron(a_H, a_H) + np.kron(a_V, a_V))\n",
    "    pure_EPPS_operator_MPO = mpo.from_dense(pure_EPPS_operator, dims = N, sites = (0,1,2,3), L=4, tags=\"ideal_state\")    \n",
    "    psi = tensor_network_apply_op_vec(pure_EPPS_operator_MPO, vacuum, compress=True, contract = True, cutoff = error_tolerance)\n",
    "    return psi, psi.site_tags\n",
    "\n"
   ]
  },
  {
   "cell_type": "code",
   "execution_count": 15,
   "id": "18f7aafb",
   "metadata": {},
   "outputs": [
    {
     "name": "stdout",
     "output_type": "stream",
     "text": [
      "[[ 1.  +0.j  0.  +0.j  0.  +0.j  0.  +0.j]\n",
      " [-0.  +0.j  0.71+0.j -0.71+0.j  0.  +0.j]\n",
      " [ 0.  +0.j  0.71+0.j  0.71+0.j  0.  +0.j]\n",
      " [ 0.  +0.j  0.  +0.j  0.  +0.j  1.  +0.j]]\n",
      "[[ 1.  +0.j  0.  +0.j  0.  +0.j  0.  +0.j]\n",
      " [ 0.  +0.j  0.92+0.j -0.38+0.j  0.  +0.j]\n",
      " [ 0.  +0.j  0.38+0.j  0.92+0.j  0.  +0.j]\n",
      " [ 0.  +0.j  0.  +0.j  0.  +0.j  1.  +0.j]]\n"
     ]
    }
   ],
   "source": [
    "N = 2\n",
    "idler = [np.pi/4, 0]\n",
    "signal = [np.pi/2]\n",
    "num_modes = 4\n",
    "efficiency = 1\n",
    "error_tolerance = 1e-10\n",
    "num_simulations = 1\n",
    "\n",
    "print(np.round(ry(signal[0], N, return_unitary = False, site1 = 0, site2 = 1, total_sites=2).to_dense(), 2))\n",
    "print(np.round(ry(idler[0], N, return_unitary = False, site1 = 0, site2 = 1, total_sites=2).to_dense(), 2))"
   ]
  },
  {
   "cell_type": "code",
   "execution_count": 16,
   "id": "596fb827",
   "metadata": {},
   "outputs": [
    {
     "name": "stdout",
     "output_type": "stream",
     "text": [
      "Corresponding Basis terms:\n",
      "1H0V_B 1H0V_A - 5 - [0.70710678+0.j]\n",
      "0H1V_B 0H1V_A - 10 - [0.70710678+0.j]\n"
     ]
    }
   ],
   "source": [
    "psi, site_tags = create_perfect_bell_state(N)\n",
    "\n",
    "read_quantum_state(psi, N, num_states = 2)"
   ]
  },
  {
   "cell_type": "code",
   "execution_count": 18,
   "id": "804a3432",
   "metadata": {},
   "outputs": [
    {
     "name": "stdout",
     "output_type": "stream",
     "text": [
      "Corresponding Basis terms:\n",
      "0H1V_B 1H0V_A - 9 - [0.27059805-0.j]\n"
     ]
    },
    {
     "data": {
      "text/plain": [
       "[MatrixProductOperator(tensors=2, indices=5, L=4, max_bond=4),\n",
       " MatrixProductOperator(tensors=2, indices=5, L=4, max_bond=4),\n",
       " MatrixProductOperator(tensors=1, indices=2, L=4, max_bond=None),\n",
       " MatrixProductOperator(tensors=1, indices=2, L=4, max_bond=None),\n",
       " MatrixProductOperator(tensors=1, indices=2, L=4, max_bond=None),\n",
       " MatrixProductOperator(tensors=1, indices=2, L=4, max_bond=None)]"
      ]
     },
     "execution_count": 18,
     "metadata": {},
     "output_type": "execute_result"
    }
   ],
   "source": [
    "quantum_channel_list = []\n",
    "\n",
    "phase_flip_ops = [sp.csr_matrix(global_phase(0, N, return_unitary = True, site1 = 0, site2 = 1, total_sites = 2))]\n",
    "quantum_channel_list.append(quantum_channel(N = N, num_modes = 8, formalism = \"kraus\", kraus_ops_tuple = ((0,1), phase_flip_ops), name = \"first_kraus\"))\n",
    "\n",
    "coincidence_HH_ops_list = rotate_and_measure(None, N, site_tags, num_modes, efficiency, error_tolerance, idler, signal, rotations = {\"signal\":(0,1), \"idler\":(2,3)}, measurements = {1:(0,3), 0:(1,2)}, return_MPOs = True)\n",
    "quantum_channel_list.extend([quantum_channel(N = N, num_modes = 8, formalism = \"closed\", unitary_MPOs = PA_MPO) for PA_MPO in coincidence_HH_ops_list])\n",
    "\n",
    "evaluator = trajectory_evaluator(quantum_channel_list)\n",
    "\n",
    "psi_iter = evaluator.perform_simulation(psi, error_tolerance, normalize = False)\n",
    "\n",
    "read_quantum_state(psi_iter, N, num_states = 2)\n",
    "\n",
    "psi_iter.normalize()\n",
    "\n",
    "coincidence_HH_ops_list"
   ]
  },
  {
   "cell_type": "code",
   "execution_count": null,
   "id": "6d13d375",
   "metadata": {},
   "outputs": [],
   "source": []
  }
 ],
 "metadata": {
  "kernelspec": {
   "display_name": ".venv",
   "language": "python",
   "name": "python3"
  },
  "language_info": {
   "codemirror_mode": {
    "name": "ipython",
    "version": 3
   },
   "file_extension": ".py",
   "mimetype": "text/x-python",
   "name": "python",
   "nbconvert_exporter": "python",
   "pygments_lexer": "ipython3",
   "version": "3.10.12"
  }
 },
 "nbformat": 4,
 "nbformat_minor": 5
}
