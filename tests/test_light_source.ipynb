{
 "cells": [
  {
   "cell_type": "code",
   "execution_count": 2,
   "id": "4ebab914",
   "metadata": {},
   "outputs": [
    {
     "name": "stderr",
     "output_type": "stream",
     "text": [
      "/home/asingal/home/.venv/lib/python3.10/site-packages/numba/np/ufunc/parallel.py:371: NumbaWarning: The TBB threading layer requires TBB version 2021 update 6 or later i.e., TBB_INTERFACE_VERSION >= 12060. Found TBB_INTERFACE_VERSION = 12050. The TBB threading layer is disabled.\n",
      "  warnings.warn(problem)\n",
      "/home/asingal/home/.venv/lib/python3.10/site-packages/cotengra/hyperoptimizers/hyper.py:33: UserWarning: Couldn't import `kahypar` - skipping from default hyper optimizer and using basic `labels` method instead.\n",
      "  warnings.warn(\n"
     ]
    }
   ],
   "source": [
    "import qutip\n",
    "import numpy as np\n",
    "from trajectree.fock_optics.outputs import print_quantum_state\n",
    "from trajectree.fock_optics.utils import create_vacuum_state, read_quantum_state\n",
    "from trajectree.fock_optics.light_sources import light_source, create_TMSV_OP_Dense\n",
    "from scipy.sparse import kron\n",
    "from scipy import sparse as sp\n",
    "from numpy import sqrt, exp, pi\n",
    "from math import factorial\n",
    "from matplotlib import pyplot as plt "
   ]
  },
  {
   "cell_type": "markdown",
   "id": "2bcbf0a4",
   "metadata": {},
   "source": [
    "This file is comparing the light source in trajectree with the light source from SeQUeNCe used to perform the FiO experiment. "
   ]
  },
  {
   "cell_type": "code",
   "execution_count": 3,
   "id": "4823f0a4",
   "metadata": {},
   "outputs": [],
   "source": [
    "# Recreating the FiO statevector here. \n",
    "\n",
    "def _find_mat_exp(mat):\n",
    "        ans = sp.eye(mat.shape[0])\n",
    "        intermediate = 1\n",
    "        # print(\"finding matrix exp\")\n",
    "        for i in range(1, 50+1):\n",
    "            # print(\"done one iteration\")\n",
    "            intermediate *= mat/i\n",
    "            # intermediate.data = np.round(intermediate.data, 10)\n",
    "            # print(\"num_elements:\", len(intermediate.data))\n",
    "            intermediate.eliminate_zeros()\n",
    "\n",
    "\n",
    "            ans += intermediate\n",
    "            # temp.data = intermediate / factorial(i)\n",
    "        # print(\"done finding matrix exp\")\n",
    "        return ans\n",
    "\n",
    "\n",
    "\n",
    "def power(matrix, power):\n",
    "    if power:\n",
    "        return matrix**power\n",
    "    return sp.eye(matrix.shape[0])\n",
    "\n",
    "\n",
    "def _generate_tmsv_state(N=3, mean_photon_num=0.1, dm = False):\n",
    "    \"\"\"Method to generate two-mode squeezed vacuum state of two output photonic modes\n",
    "        Problem with this method: When you add up the H and V TMSV components, you are \n",
    "        creating an incoherent mixture. This is wrong since an entanglement is a coherent \n",
    "        mixture of these components. So, you'll have to use the PBS unitary to perform the \n",
    "        combination of H and V components coherently \n",
    "    Returns:\n",
    "        array: generated state.\n",
    "    \"\"\"\n",
    "\n",
    "    I = sp.eye(N)\n",
    "    a = sp.csr_matrix(qutip.destroy(N).full())\n",
    "    a_V = kron(a, I)\n",
    "    adag_V = a_V.conjugate().transpose() \n",
    "    a_H = kron(I, a)\n",
    "    adag_H = a_H.conjugate().transpose() \n",
    "\n",
    "    I = sp.eye(N**2)\n",
    "    \n",
    "    theta_H = np.pi/2\n",
    "\n",
    "    # print(\"types:\", type(a_V), type(a_V), type(adag_V), type(adag_V), type(I))\n",
    "\n",
    "    a_H_Signal = kron(a_H, I, \"csr\")\n",
    "    adag_H_Signal = kron(adag_H, I, \"csr\")\n",
    "    a_H_Idler = kron(I, a_H, \"csr\")\n",
    "    adag_H_Idler = kron(I, adag_H, \"csr\")\n",
    "    II = kron(I,I, \"csr\")\n",
    "\n",
    "    hamiltonian_H_Signal = theta_H * ( kron(II, a_H_Signal, \"csr\")@kron(adag_H_Signal,II, \"csr\") - kron(a_H_Signal, II, \"csr\")@kron(II, adag_H_Signal, \"csr\") )\n",
    "    # print(\"done1\")\n",
    "    hamiltonian_H_Idler = theta_H * ( kron(II, a_H_Idler, \"csr\")@kron(adag_H_Idler,II, \"csr\") - kron(a_H_Idler, II, \"csr\")@kron(II, adag_H_Idler, \"csr\") )\n",
    "\n",
    "    U_v_Signal = _find_mat_exp(hamiltonian_H_Signal)\n",
    "    U_v_Signal.data = np.round(U_v_Signal.data, 12)\n",
    "    U_v_Signal.eliminate_zeros()\n",
    "\n",
    "    U_v_Idler = _find_mat_exp(hamiltonian_H_Idler)\n",
    "    U_v_Idler.data = np.round(U_v_Idler.data, 12)\n",
    "    U_v_Idler.eliminate_zeros()\n",
    "        \n",
    "    BS_U = U_v_Signal @ U_v_Idler\n",
    "\n",
    "    # Now, we create the 2 TMSV state operators interacting at the Beamsplitter. \n",
    "\n",
    "    mean_num = mean_photon_num\n",
    "    # print(\"mean_num\", mean_num)\n",
    "    truncation = N-1\n",
    "    dim = N**2\n",
    "\n",
    "    vacuum = sp.csr_matrix((dim, 1))\n",
    "    vacuum[0,0] = 1        \n",
    "\n",
    "    def generate_amp_list(mean_num):\n",
    "        amp_list = [(sqrt(mean_num / (mean_num + 1)) ** m) / sqrt(mean_num + 1) for m in range(truncation)]\n",
    "        amp_square_list = [amp ** 2 for amp in amp_list]\n",
    "        amp_list.append(sqrt(1 - sum(amp_square_list)))\n",
    "        return amp_list\n",
    "\n",
    "    ampH = generate_amp_list(mean_num)\n",
    "    ampV = generate_amp_list(mean_num)\n",
    "\n",
    "    op_H = 0\n",
    "    op_V = 0\n",
    "    for i in range(truncation+1):\n",
    "        # TMSV is a 2 mode state (independent spatial modes). Hence, we take the tensor product of the two mode operators\n",
    "        new_op_H = ampH[i] * ( power(sp.kron(adag_H, adag_H), i) ) / factorial(i)\n",
    "        new_op_V = ampV[i] * ( power(sp.kron(adag_V, adag_V), i) ) / factorial(i)\n",
    "        op_H += new_op_H\n",
    "        op_V += new_op_V\n",
    "    \n",
    "    TMSV_H_state = op_H @ sp.kron(vacuum, vacuum)\n",
    "    TMSV_V_state = op_V @ sp.kron(vacuum, vacuum)\n",
    "\n",
    "    total_state = kron(TMSV_H_state, TMSV_V_state)\n",
    "\n",
    "    entangled_state = BS_U @ total_state\n",
    "\n",
    "    entangled_state.data = np.round(entangled_state.data, 10)\n",
    "\n",
    "    state_indices, _ = entangled_state.nonzero()\n",
    "\n",
    "    entangled_state.eliminate_zeros()\n",
    "\n",
    "    print_quantum_state(N, entangled_state, num_states = 4, return_string = False)\n",
    "\n",
    "    if not dm:\n",
    "        return entangled_state\n",
    "\n",
    "    entangled_state = 1/np.sqrt((entangled_state.conjugate().transpose() @ entangled_state)[0,0]) * entangled_state\n",
    "\n",
    "    entangled_state = entangled_state @ entangled_state.conjugate().transpose()\n",
    "    reduced_state = entangled_state[:dim**2, :dim**2]    \n",
    "    return reduced_state\n"
   ]
  },
  {
   "cell_type": "code",
   "execution_count": 4,
   "id": "d76cf99e",
   "metadata": {},
   "outputs": [
    {
     "name": "stdout",
     "output_type": "stream",
     "text": [
      "Corresponding Basis terms:\n",
      "0H0V_D 0H0V_C 0H0V_B 0H0V_A - 0 - [0.86956522+0.j]\n",
      "0H0V_D 0H0V_C 1H0V_B 1H0V_A - 10 - [0.31405005+0.j]\n",
      "0H0V_D 0H0V_C 2H0V_B 2H0V_A - 20 - [0.12163106+0.j]\n",
      "0H0V_D 0H0V_C 0H1V_B 0H1V_A - 30 - [0.31405005+0.j]\n",
      "0H0V_D 0H0V_C 1H1V_B 1H1V_A - 40 - [0.11342155+0.j]\n",
      "0H0V_D 0H0V_C 2H1V_B 2H1V_A - 50 - [0.04392798+0.j]\n",
      "0H0V_D 0H0V_C 0H2V_B 0H2V_A - 60 - [0.12163106+0.j]\n",
      "0H0V_D 0H0V_C 1H2V_B 1H2V_A - 70 - [0.04392798+0.j]\n",
      "0H0V_D 0H0V_C 2H2V_B 2H2V_A - 80 - [0.01701323+0.j]\n"
     ]
    },
    {
     "name": "stderr",
     "output_type": "stream",
     "text": [
      "/home/asingal/home/.venv/lib/python3.10/site-packages/scipy/sparse/_index.py:168: SparseEfficiencyWarning: Changing the sparsity structure of a csr_matrix is expensive. lil and dok are more efficient.\n",
      "  self._set_intXint(row, col, x.flat[0])\n"
     ]
    },
    {
     "data": {
      "text/plain": [
       "<Compressed Sparse Row sparse matrix of dtype 'complex128'\n",
       "\twith 9 stored elements and shape (6561, 1)>"
      ]
     },
     "execution_count": 4,
     "metadata": {},
     "output_type": "execute_result"
    }
   ],
   "source": [
    "N = 3\n",
    "mean_photon_num = (0.15)\n",
    "state = _generate_tmsv_state(N = N, mean_photon_num = mean_photon_num)\n",
    "state"
   ]
  },
  {
   "cell_type": "code",
   "execution_count": 5,
   "id": "e79833eb",
   "metadata": {},
   "outputs": [
    {
     "name": "stdout",
     "output_type": "stream",
     "text": [
      "Corresponding Basis terms:\n",
      "0H0V_D 0H0V_C 0H0V_B 0H0V_A - 0 - [0.86981524+0.j]\n",
      "0H0V_D 0H0V_C 1H0V_B 1H0V_A - 10 - [-0.31216896+0.j]\n",
      "0H0V_D 0H0V_C 2H0V_B 2H0V_A - 20 - [0.12564724+0.j]\n",
      "0H0V_D 0H0V_C 0H1V_B 0H1V_A - 30 - [-0.31216896+0.j]\n",
      "0H0V_D 0H0V_C 1H1V_B 1H1V_A - 40 - [0.11203467+0.j]\n",
      "0H0V_D 0H0V_C 2H1V_B 2H1V_A - 50 - [-0.04509368+0.j]\n",
      "0H0V_D 0H0V_C 0H2V_B 0H2V_A - 60 - [0.12564724+0.j]\n",
      "0H0V_D 0H0V_C 1H2V_B 1H2V_A - 70 - [-0.04509368+0.j]\n",
      "0H0V_D 0H0V_C 2H2V_B 2H2V_A - 80 - [0.01815009+0.j]\n"
     ]
    }
   ],
   "source": [
    "vacuum = create_vacuum_state(num_modes=8, N=N)\n",
    "\n",
    "psi, TMSV_state = light_source(vacuum, N, mean_photon_num, 8, 1e-12, compress=True, contract=True)\n",
    "\n",
    "read_quantum_state(psi, N, num_states = 4)"
   ]
  },
  {
   "cell_type": "code",
   "execution_count": 8,
   "id": "6dd21c02",
   "metadata": {},
   "outputs": [],
   "source": [
    "N = 4\n",
    "mean_photon_num = 0.5\n",
    "\n",
    "vacuum_dense = np.zeros((N**2,1))\n",
    "vacuum_dense[0,0] = 1\n",
    "TMSV_state = create_TMSV_OP_Dense(N, mean_photon_num) @ vacuum_dense\n",
    "\n",
    "state_probabilities = []\n",
    "\n",
    "for i in range(N):\n",
    "    reference_state = np.zeros((N,1))\n",
    "    reference_state[i,0] = 1\n",
    "    reference_state = np.kron(reference_state, reference_state)\n",
    "\n",
    "    # print(reference_state.shape, TMSV_state.shape)\n",
    "\n",
    "    state_probabilities.append(np.abs(reference_state.T @ TMSV_state)[0,0])"
   ]
  },
  {
   "cell_type": "code",
   "execution_count": 9,
   "id": "212c213e",
   "metadata": {},
   "outputs": [
    {
     "name": "stdout",
     "output_type": "stream",
     "text": [
      "0.6584789484624084\n"
     ]
    },
    {
     "data": {
      "text/plain": [
       "[<matplotlib.lines.Line2D at 0x7f250bb299f0>]"
      ]
     },
     "execution_count": 9,
     "metadata": {},
     "output_type": "execute_result"
    },
    {
     "data": {
      "image/png": "[encoded data removed]",
      "text/plain": [
       "<Figure size 640x480 with 1 Axes>"
      ]
     },
     "metadata": {},
     "output_type": "display_data"
    }
   ],
   "source": [
    "plt.plot(state_probabilities, 'x')\n",
    "\n",
    "chi = np.asinh(np.sqrt(mean_photon_num))\n",
    "print(chi)\n",
    "TMSV_dist = [np.tanh(chi)**n / np.cosh(chi) for n in range(N)]\n",
    "\n",
    "plt.plot(TMSV_dist)"
   ]
  }
 ],
 "metadata": {
  "kernelspec": {
   "display_name": ".venv",
   "language": "python",
   "name": "python3"
  },
  "language_info": {
   "codemirror_mode": {
    "name": "ipython",
    "version": 3
   },
   "file_extension": ".py",
   "mimetype": "text/x-python",
   "name": "python",
   "nbconvert_exporter": "python",
   "pygments_lexer": "ipython3",
   "version": "3.10.12"
  }
 },
 "nbformat": 4,
 "nbformat_minor": 5
}
