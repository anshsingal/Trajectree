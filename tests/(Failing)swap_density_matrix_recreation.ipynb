{
 "cells": [
  {
   "cell_type": "code",
   "execution_count": 2,
   "metadata": {},
   "outputs": [
    {
     "name": "stderr",
     "output_type": "stream",
     "text": [
      "/home/asingal/home/.venv/lib/python3.10/site-packages/numba/np/ufunc/parallel.py:371: NumbaWarning: The TBB threading layer requires TBB version 2021 update 6 or later i.e., TBB_INTERFACE_VERSION >= 12060. Found TBB_INTERFACE_VERSION = 12050. The TBB threading layer is disabled.\n",
      "  warnings.warn(problem)\n",
      "/home/asingal/home/.venv/lib/python3.10/site-packages/cotengra/hyperoptimizers/hyper.py:33: UserWarning: Couldn't import `kahypar` - skipping from default hyper optimizer and using basic `labels` method instead.\n",
      "  warnings.warn(\n"
     ]
    }
   ],
   "source": [
    "import qutip as qt\n",
    "import numpy as np\n",
    "from scipy import sparse as sp\n",
    "\n",
    "from trajectree.fock_optics.noise_models import *\n",
    "from trajectree.fock_optics.measurement import *\n",
    "from trajectree.fock_optics.utils import *\n",
    "from trajectree.fock_optics.light_sources import *\n",
    "\n",
    "from trajectree.trajectory import *\n",
    "\n",
    "from trajectree.experimental.sparse import *\n",
    "from trajectree.sequence.swap import *\n"
   ]
  },
  {
   "cell_type": "code",
   "execution_count": 3,
   "metadata": {},
   "outputs": [],
   "source": [
    "# Set simulation params\n",
    "trunc = 2\n",
    "N = trunc+1\n",
    "error_tolerance = 1e-15\n",
    "\n",
    "mean_photon_num = 0.5 # (0.5)\n",
    "det_eff = 1 # 0.9\n",
    "channel_loss = 0.5\n",
    "\n",
    "\n",
    "num_modes = 8\n",
    "# Create vacuum state\n",
    "\n",
    "idler_angles = np.linspace(0, np.pi, 1)\n",
    "signal_angles = np.linspace(0, 4*np.pi, 30)\n",
    "\n",
    "num_simulations = 256\n",
    "\n",
    "cache_sizes = [2]"
   ]
  },
  {
   "cell_type": "code",
   "execution_count": 4,
   "metadata": {},
   "outputs": [],
   "source": [
    "params = {\n",
    "    \"PA_det_eff\": 1,\n",
    "    \"BSM_det_loss_1\": 1e-6, #  0.045,\n",
    "    \"BSM_det_loss_2\": 1e-6, # 0.135,\n",
    "    \"BSM_dark_counts_1\": 1+1e-6,\n",
    "    \"BSM_dark_counts_2\": 1+1e-6,\n",
    "    \"channel_loss\": 0,\n",
    "    \"chi\": 0.24,\n",
    "    \"BSM_meas\": {0:(2,3), 1:(6,7)},\n",
    "}"
   ]
  },
  {
   "cell_type": "markdown",
   "metadata": {},
   "source": [
    "## Verifying Density matrix"
   ]
  },
  {
   "cell_type": "code",
   "execution_count": 6,
   "metadata": {},
   "outputs": [
    {
     "ename": "IndexError",
     "evalue": "index 0 is out of bounds for axis 0 with size 0",
     "output_type": "error",
     "traceback": [
      "\u001b[0;31m---------------------------------------------------------------------------\u001b[0m",
      "\u001b[0;31mIndexError\u001b[0m                                Traceback (most recent call last)",
      "Cell \u001b[0;32mIn[6], line 7\u001b[0m\n\u001b[1;32m      4\u001b[0m quantum_channels \u001b[38;5;241m=\u001b[39m generate_swapping_circuit(N, num_modes, psi\u001b[38;5;241m.\u001b[39msite_tags, [params[\u001b[38;5;124m\"\u001b[39m\u001b[38;5;124mBSM_det_loss_1\u001b[39m\u001b[38;5;124m\"\u001b[39m], params[\u001b[38;5;124m\"\u001b[39m\u001b[38;5;124mBSM_det_loss_2\u001b[39m\u001b[38;5;124m\"\u001b[39m]], [params[\u001b[38;5;124m\"\u001b[39m\u001b[38;5;124mBSM_dark_counts_1\u001b[39m\u001b[38;5;124m\"\u001b[39m], params[\u001b[38;5;124m\"\u001b[39m\u001b[38;5;124mBSM_dark_counts_2\u001b[39m\u001b[38;5;124m\"\u001b[39m]], params[\u001b[38;5;124m\"\u001b[39m\u001b[38;5;124mBSM_meas\u001b[39m\u001b[38;5;124m\"\u001b[39m], params[\u001b[38;5;124m\"\u001b[39m\u001b[38;5;124mchannel_loss\u001b[39m\u001b[38;5;124m\"\u001b[39m], error_tolerance)\n\u001b[1;32m      6\u001b[0m t_eval \u001b[38;5;241m=\u001b[39m trajectory_evaluator(quantum_channels)\n\u001b[0;32m----> 7\u001b[0m dm \u001b[38;5;241m=\u001b[39m \u001b[43mt_eval\u001b[49m\u001b[38;5;241;43m.\u001b[39;49m\u001b[43mcalculate_density_matrix\u001b[49m\u001b[43m(\u001b[49m\u001b[43mpsi\u001b[49m\u001b[43m,\u001b[49m\u001b[43m \u001b[49m\u001b[43merror_tolerance\u001b[49m\u001b[43m)\u001b[49m\n\u001b[1;32m      9\u001b[0m \u001b[38;5;66;03m# psi_minus = create_bimode_bell_state('psi_minus', N)\u001b[39;00m\n",
      "File \u001b[0;32m~/home/Trajectree/trajectree/trajectory.py:164\u001b[0m, in \u001b[0;36mtrajectory_evaluator.calculate_density_matrix\u001b[0;34m(self, psi, error_tolerance)\u001b[0m\n\u001b[1;32m    162\u001b[0m         trajectree_indices_list \u001b[38;5;241m=\u001b[39m [[\u001b[38;5;241m*\u001b[39mi, j] \u001b[38;5;28;01mfor\u001b[39;00m i \u001b[38;5;129;01min\u001b[39;00m trajectree_indices_list \u001b[38;5;28;01mfor\u001b[39;00m j \u001b[38;5;129;01min\u001b[39;00m \u001b[38;5;28mrange\u001b[39m(\u001b[38;5;28mlen\u001b[39m(quantum_channel\u001b[38;5;241m.\u001b[39mget_MPOs()))]\n\u001b[1;32m    163\u001b[0m \u001b[38;5;28;01mfor\u001b[39;00m trajectree_indices \u001b[38;5;129;01min\u001b[39;00m trajectree_indices_list:\n\u001b[0;32m--> 164\u001b[0m     psi_new_dense \u001b[38;5;241m=\u001b[39m \u001b[38;5;28;43mself\u001b[39;49m\u001b[38;5;241;43m.\u001b[39;49m\u001b[43mperform_simulation\u001b[49m\u001b[43m(\u001b[49m\u001b[43mpsi\u001b[49m\u001b[43m,\u001b[49m\u001b[43m \u001b[49m\u001b[43merror_tolerance\u001b[49m\u001b[43m,\u001b[49m\u001b[43m \u001b[49m\u001b[43mcache\u001b[49m\u001b[43m \u001b[49m\u001b[38;5;241;43m=\u001b[39;49m\u001b[43m \u001b[49m\u001b[38;5;28;43;01mTrue\u001b[39;49;00m\u001b[43m,\u001b[49m\u001b[43m \u001b[49m\u001b[43mtrajectree_indices\u001b[49m\u001b[43m \u001b[49m\u001b[38;5;241;43m=\u001b[39;49m\u001b[43m \u001b[49m\u001b[43mtrajectree_indices\u001b[49m\u001b[43m,\u001b[49m\u001b[43m \u001b[49m\u001b[43mnormalize\u001b[49m\u001b[43m \u001b[49m\u001b[38;5;241;43m=\u001b[39;49m\u001b[43m \u001b[49m\u001b[38;5;28;43;01mFalse\u001b[39;49;00m\u001b[43m)\u001b[49m\u001b[38;5;241m.\u001b[39mto_dense()\n\u001b[1;32m    165\u001b[0m     dm \u001b[38;5;241m+\u001b[39m\u001b[38;5;241m=\u001b[39m psi_new_dense \u001b[38;5;241m@\u001b[39m psi_new_dense\u001b[38;5;241m.\u001b[39mconj()\u001b[38;5;241m.\u001b[39mT\n\u001b[1;32m    166\u001b[0m \u001b[38;5;28;01mreturn\u001b[39;00m dm\n",
      "File \u001b[0;32m~/home/Trajectree/trajectree/trajectory.py:182\u001b[0m, in \u001b[0;36mtrajectory_evaluator.perform_simulation\u001b[0;34m(self, psi, error_tolerance, cache, trajectree_indices, normalize)\u001b[0m\n\u001b[1;32m    180\u001b[0m kraus_MPOs \u001b[38;5;241m=\u001b[39m quantum_channel\u001b[38;5;241m.\u001b[39mget_MPOs()\n\u001b[1;32m    181\u001b[0m \u001b[38;5;28;01mif\u001b[39;00m \u001b[38;5;129;01mnot\u001b[39;00m trajectree_indices \u001b[38;5;241m==\u001b[39m \u001b[38;5;28;01mNone\u001b[39;00m: \u001b[38;5;66;03m# If the list of trajectoery indices is provided, we will use that to traverse the trajectree. The random number generators will not be used.\u001b[39;00m\n\u001b[0;32m--> 182\u001b[0m     psi \u001b[38;5;241m=\u001b[39m \u001b[38;5;28;43mself\u001b[39;49m\u001b[38;5;241;43m.\u001b[39;49m\u001b[43mquery_trajectree\u001b[49m\u001b[43m(\u001b[49m\u001b[43mpsi\u001b[49m\u001b[43m,\u001b[49m\u001b[43m \u001b[49m\u001b[43mkraus_MPOs\u001b[49m\u001b[43m,\u001b[49m\u001b[43m \u001b[49m\u001b[43merror_tolerance\u001b[49m\u001b[43m,\u001b[49m\u001b[43m \u001b[49m\u001b[43mcache\u001b[49m\u001b[43m,\u001b[49m\u001b[43m \u001b[49m\u001b[43mtrajectree_indices\u001b[49m\u001b[38;5;241;43m.\u001b[39;49m\u001b[43mpop\u001b[49m\u001b[43m(\u001b[49m\u001b[38;5;241;43m0\u001b[39;49m\u001b[43m)\u001b[49m\u001b[43m,\u001b[49m\u001b[43m \u001b[49m\u001b[43mnormalize\u001b[49m\u001b[43m)\u001b[49m\n\u001b[1;32m    183\u001b[0m \u001b[38;5;28;01melse\u001b[39;00m: \u001b[38;5;66;03m# In this branch, you actually select the trajectory redomly and perform realistic simulations. \u001b[39;00m\n\u001b[1;32m    184\u001b[0m     psi \u001b[38;5;241m=\u001b[39m \u001b[38;5;28mself\u001b[39m\u001b[38;5;241m.\u001b[39mquery_trajectree(psi, kraus_MPOs, error_tolerance, cache \u001b[38;5;241m=\u001b[39m cache, normalize \u001b[38;5;241m=\u001b[39m normalize)\n",
      "File \u001b[0;32m~/home/Trajectree/trajectree/trajectory.py:149\u001b[0m, in \u001b[0;36mtrajectory_evaluator.query_trajectree\u001b[0;34m(self, psi, kraus_MPOs, error_tolerance, cache, selected_trajectory_index, normalize)\u001b[0m\n\u001b[1;32m    147\u001b[0m     \u001b[38;5;28mself\u001b[39m\u001b[38;5;241m.\u001b[39mcache_unitary \u001b[38;5;241m=\u001b[39m \u001b[38;5;28;01mTrue\u001b[39;00m\n\u001b[1;32m    148\u001b[0m     \u001b[38;5;28mself\u001b[39m\u001b[38;5;241m.\u001b[39mcache_miss \u001b[38;5;241m+\u001b[39m\u001b[38;5;241m=\u001b[39m \u001b[38;5;241m1\u001b[39m\n\u001b[0;32m--> 149\u001b[0m     psi \u001b[38;5;241m=\u001b[39m \u001b[38;5;28;43mself\u001b[39;49m\u001b[38;5;241;43m.\u001b[39;49m\u001b[43mdiscover_trajectree_node\u001b[49m\u001b[43m(\u001b[49m\u001b[43mpsi\u001b[49m\u001b[43m,\u001b[49m\u001b[43m \u001b[49m\u001b[43mkraus_MPOs\u001b[49m\u001b[43m,\u001b[49m\u001b[43m \u001b[49m\u001b[43merror_tolerance\u001b[49m\u001b[43m,\u001b[49m\u001b[43m \u001b[49m\u001b[43mnormalize\u001b[49m\u001b[43m,\u001b[49m\u001b[43m \u001b[49m\u001b[43mselected_trajectory_index\u001b[49m\u001b[43m \u001b[49m\u001b[38;5;241;43m=\u001b[39;49m\u001b[43m \u001b[49m\u001b[43mselected_trajectory_index\u001b[49m\u001b[43m)\u001b[49m\n\u001b[1;32m    151\u001b[0m \u001b[38;5;28;01mreturn\u001b[39;00m psi\n",
      "File \u001b[0;32m~/home/Trajectree/trajectree/trajectory.py:111\u001b[0m, in \u001b[0;36mtrajectory_evaluator.discover_trajectree_node\u001b[0;34m(self, psi, kraus_MPOs, error_tolerance, normalize, selected_trajectory_index)\u001b[0m\n\u001b[1;32m    107\u001b[0m     selected_trajectory_index \u001b[38;5;241m=\u001b[39m np\u001b[38;5;241m.\u001b[39mrandom\u001b[38;5;241m.\u001b[39mchoice(a \u001b[38;5;241m=\u001b[39m \u001b[38;5;28mlen\u001b[39m(trajectory_probs), p \u001b[38;5;241m=\u001b[39m trajectory_probs\u001b[38;5;241m/\u001b[39m\u001b[38;5;28msum\u001b[39m(trajectory_probs))\n\u001b[1;32m    109\u001b[0m \u001b[38;5;28mself\u001b[39m\u001b[38;5;241m.\u001b[39mtraversed_nodes \u001b[38;5;241m=\u001b[39m \u001b[38;5;28mself\u001b[39m\u001b[38;5;241m.\u001b[39mtraversed_nodes \u001b[38;5;241m+\u001b[39m (selected_trajectory_index,)\n\u001b[0;32m--> 111\u001b[0m \u001b[38;5;28;01mreturn\u001b[39;00m \u001b[43mtrajectories\u001b[49m\u001b[43m[\u001b[49m\u001b[43mselected_trajectory_index\u001b[49m\u001b[43m]\u001b[49m\n",
      "\u001b[0;31mIndexError\u001b[0m: index 0 is out of bounds for axis 0 with size 0"
     ]
    }
   ],
   "source": [
    "# Find density matrix:\n",
    "psi = create_swapping_initial_state(num_modes, N, mean_photon_num, error_tolerance)\n",
    "# read_quantum_state(psi, N)\n",
    "quantum_channels = generate_swapping_circuit(N, num_modes, psi.site_tags, [params[\"BSM_det_loss_1\"], params[\"BSM_det_loss_2\"]], [params[\"BSM_dark_counts_1\"], params[\"BSM_dark_counts_2\"]], params[\"BSM_meas\"], params[\"channel_loss\"], error_tolerance)\n",
    "\n",
    "t_eval = trajectory_evaluator(quantum_channels)\n",
    "dm = t_eval.calculate_density_matrix(psi, error_tolerance)\n",
    "\n",
    "# psi_minus = create_bimode_bell_state('psi_minus', N)"
   ]
  },
  {
   "cell_type": "code",
   "execution_count": null,
   "metadata": {},
   "outputs": [
    {
     "name": "stdout",
     "output_type": "stream",
     "text": [
      "(6561, 6561) 4374 4374\n"
     ]
    }
   ],
   "source": [
    "a = qt.destroy(trunc+1).full()\n",
    "a = sp.csr_matrix(a)\n",
    "a_dag = a.T\n",
    "    \n",
    "N = trunc+1\n",
    "vacuum = create_vacuum_state(num_modes=num_modes, N=N)\n",
    "\n",
    "psi, TMSV_state = light_source(vacuum, N, mean_photon_num, num_modes, error_tolerance, compress=True, contract=True)\n",
    "\n",
    "# Sparse matrix data:\n",
    "TMSV_state_dense = extend_state_sparse(TMSV_state) # TMSV_state was created earlier. \n",
    "\n",
    "TMSV_dm = TMSV_state_dense @ TMSV_state_dense.conj().T\n",
    "\n",
    "single_mode_kraus_ops = single_mode_bosonic_noise_channels(noise_parameter = channel_loss, N = N)\n",
    "damping_kraus_ops = [sp.kron(op, op) for op in single_mode_kraus_ops]\n",
    "damping_kraus_ops_1 = [create_op(2, op, 4, N) for op in damping_kraus_ops]\n",
    "damping_kraus_ops_2 = [create_op(6, op, 0, N) for op in damping_kraus_ops]\n",
    "\n",
    "new_dm = 0\n",
    "for kraus_op in damping_kraus_ops_1:\n",
    "    new_dm += kraus_op @ TMSV_dm @ kraus_op.conj().T\n",
    "\n",
    "old_dm = new_dm\n",
    "new_dm = 0\n",
    "for kraus_op in damping_kraus_ops_2:\n",
    "    new_dm += kraus_op @ old_dm @ kraus_op.conj().T\n",
    "\n",
    "post_BSM_dm = bell_state_measurement_sparse(new_dm, N, det_eff, a_dag, is_dm = True)\n"
   ]
  },
  {
   "cell_type": "code",
   "execution_count": null,
   "metadata": {},
   "outputs": [
    {
     "data": {
      "text/plain": [
       "<6561x6561 sparse array of type '<class 'numpy.complex128'>'\n",
       "\twith 0 stored elements in Compressed Sparse Row format>"
      ]
     },
     "execution_count": 5,
     "metadata": {},
     "output_type": "execute_result"
    }
   ],
   "source": [
    "TN_dm_sparse = sp.csr_array(np.round(dm, 8))\n",
    "# TN_dm_sparse.trace()\n",
    "# print(TN_dm_sparse)\n",
    "\n",
    "# print(\"dense version:\")\n",
    "post_BSM_dm.data = np.round(post_BSM_dm.data, 8)\n",
    "post_BSM_dm.eliminate_zeros()\n",
    "# print(post_BSM_dm)\n",
    "# dense_dm_sparse.trace()\n",
    "\n",
    "diff = TN_dm_sparse - post_BSM_dm\n",
    "diff.data = np.round(diff.data, 8)\n",
    "diff.eliminate_zeros()\n",
    "diff"
   ]
  }
 ],
 "metadata": {
  "kernelspec": {
   "display_name": ".venv",
   "language": "python",
   "name": "python3"
  },
  "language_info": {
   "codemirror_mode": {
    "name": "ipython",
    "version": 3
   },
   "file_extension": ".py",
   "mimetype": "text/x-python",
   "name": "python",
   "nbconvert_exporter": "python",
   "pygments_lexer": "ipython3",
   "version": "3.10.12"
  }
 },
 "nbformat": 4,
 "nbformat_minor": 2
}
