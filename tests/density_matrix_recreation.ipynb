{
 "cells": [
  {
   "cell_type": "code",
   "execution_count": 1,
   "metadata": {},
   "outputs": [
    {
     "name": "stderr",
     "output_type": "stream",
     "text": [
      "/home/asingal/home/.venv/lib/python3.10/site-packages/numba/np/ufunc/parallel.py:371: NumbaWarning: The TBB threading layer requires TBB version 2021 update 6 or later i.e., TBB_INTERFACE_VERSION >= 12060. Found TBB_INTERFACE_VERSION = 12050. The TBB threading layer is disabled.\n",
      "  warnings.warn(problem)\n",
      "/home/asingal/home/.venv/lib/python3.10/site-packages/cotengra/hyperoptimizers/hyper.py:33: UserWarning: Couldn't import `kahypar` - skipping from default hyper optimizer and using basic `labels` method instead.\n",
      "  warnings.warn(\n"
     ]
    }
   ],
   "source": [
    "import qutip as qt\n",
    "import numpy as np\n",
    "from scipy import sparse as sp\n",
    "\n",
    "from trajectree.fock_optics.noise_models import *\n",
    "from trajectree.fock_optics.measurement import *\n",
    "from trajectree.fock_optics.utils import *\n",
    "from trajectree.fock_optics.light_sources import *\n",
    "\n",
    "from trajectree.trajectory import *\n",
    "\n",
    "from trajectree.experimental.sparse import *\n",
    "from trajectree.protocols.swap import *\n"
   ]
  },
  {
   "cell_type": "code",
   "execution_count": 2,
   "metadata": {},
   "outputs": [],
   "source": [
    "# Set simulation params\n",
    "trunc = 2\n",
    "N = trunc+1\n",
    "error_tolerance = 1e-15\n",
    "\n",
    "mean_photon_num = 0.5 # (0.5)\n",
    "det_eff = 1 # 0.9\n",
    "channel_loss = 0.5\n",
    "\n",
    "\n",
    "num_modes = 8\n",
    "# Create vacuum state\n",
    "\n",
    "idler_angles = np.linspace(0, np.pi, 1)\n",
    "signal_angles = np.linspace(0, 4*np.pi, 30)\n",
    "\n",
    "num_simulations = 256\n",
    "\n",
    "cache_sizes = [2]"
   ]
  },
  {
   "cell_type": "markdown",
   "metadata": {},
   "source": [
    "## Verifying Density matrix"
   ]
  },
  {
   "cell_type": "code",
   "execution_count": 3,
   "metadata": {},
   "outputs": [
    {
     "name": "stdout",
     "output_type": "stream",
     "text": [
      "querying nodes: [0, 0]\n",
      "querying nodes: [0, 1]\n",
      "querying nodes: [0, 2]\n",
      "querying nodes: [1, 0]\n",
      "querying nodes: [1, 1]\n",
      "querying nodes: [1, 2]\n",
      "querying nodes: [2, 0]\n",
      "querying nodes: [2, 1]\n",
      "querying nodes: [2, 2]\n"
     ]
    }
   ],
   "source": [
    "# Find density matrix:\n",
    "psi = create_swapping_initial_state(num_modes, N, mean_photon_num, error_tolerance)\n",
    "# read_quantum_state(psi, N)\n",
    "quantum_channels = generate_swapping_circuit(N, num_modes, psi.site_tags, det_eff, channel_loss, error_tolerance)\n",
    "t_eval = trajectory_evaluator(quantum_channels)\n",
    "dm = t_eval.calculate_density_matrix(psi, error_tolerance)\n",
    "\n",
    "psi_minus = create_bimode_bell_state('psi_minus', N)"
   ]
  },
  {
   "cell_type": "code",
   "execution_count": 4,
   "metadata": {},
   "outputs": [
    {
     "name": "stdout",
     "output_type": "stream",
     "text": [
      "(6561, 6561) 4374 4374\n"
     ]
    }
   ],
   "source": [
    "a = qt.destroy(trunc+1).full()\n",
    "a = sp.csr_matrix(a)\n",
    "a_dag = a.T\n",
    "    \n",
    "N = trunc+1\n",
    "vacuum = create_vacuum_state(num_modes=num_modes, N=N)\n",
    "\n",
    "psi, TMSV_state = light_source(vacuum, N, mean_photon_num, num_modes, error_tolerance, compress=True, contract=True)\n",
    "\n",
    "# Sparse matrix data:\n",
    "TMSV_state_dense = extend_state_sparse(TMSV_state) # TMSV_state was created earlier. \n",
    "\n",
    "TMSV_dm = TMSV_state_dense @ TMSV_state_dense.conj().T\n",
    "\n",
    "single_mode_kraus_ops = single_mode_bosonic_noise_channels(noise_parameter = channel_loss, N = N)\n",
    "damping_kraus_ops = [sp.kron(op, op) for op in single_mode_kraus_ops]\n",
    "damping_kraus_ops_1 = [create_op(2, op, 4, N) for op in damping_kraus_ops]\n",
    "damping_kraus_ops_2 = [create_op(6, op, 0, N) for op in damping_kraus_ops]\n",
    "\n",
    "new_dm = 0\n",
    "for kraus_op in damping_kraus_ops_1:\n",
    "    new_dm += kraus_op @ TMSV_dm @ kraus_op.conj().T\n",
    "\n",
    "old_dm = new_dm\n",
    "new_dm = 0\n",
    "for kraus_op in damping_kraus_ops_2:\n",
    "    new_dm += kraus_op @ old_dm @ kraus_op.conj().T\n",
    "\n",
    "post_BSM_dm = bell_state_measurement_sparse(new_dm, N, det_eff, a_dag, is_dm = True)\n"
   ]
  },
  {
   "cell_type": "code",
   "execution_count": 5,
   "metadata": {},
   "outputs": [
    {
     "data": {
      "text/plain": [
       "<6561x6561 sparse array of type '<class 'numpy.complex128'>'\n",
       "\twith 0 stored elements in Compressed Sparse Row format>"
      ]
     },
     "execution_count": 5,
     "metadata": {},
     "output_type": "execute_result"
    }
   ],
   "source": [
    "TN_dm_sparse = sp.csr_array(np.round(dm, 8))\n",
    "# TN_dm_sparse.trace()\n",
    "# print(TN_dm_sparse)\n",
    "\n",
    "# print(\"dense version:\")\n",
    "post_BSM_dm.data = np.round(post_BSM_dm.data, 8)\n",
    "post_BSM_dm.eliminate_zeros()\n",
    "# print(post_BSM_dm)\n",
    "# dense_dm_sparse.trace()\n",
    "\n",
    "diff = TN_dm_sparse - post_BSM_dm\n",
    "diff.data = np.round(diff.data, 8)\n",
    "diff.eliminate_zeros()\n",
    "diff"
   ]
  }
 ],
 "metadata": {
  "kernelspec": {
   "display_name": ".venv",
   "language": "python",
   "name": "python3"
  },
  "language_info": {
   "codemirror_mode": {
    "name": "ipython",
    "version": 3
   },
   "file_extension": ".py",
   "mimetype": "text/x-python",
   "name": "python",
   "nbconvert_exporter": "python",
   "pygments_lexer": "ipython3",
   "version": "3.10.12"
  }
 },
 "nbformat": 4,
 "nbformat_minor": 2
}
