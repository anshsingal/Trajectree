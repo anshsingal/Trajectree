{
 "cells": [
  {
   "cell_type": "markdown",
   "id": "687ff4ab",
   "metadata": {},
   "source": [
    "This file just tests the bell state measurement function in Trajectree. Due to the integral nature of this function in all measurements, it is important that this works correctly. We will be trying to charecterize a perfect bell state using the function. "
   ]
  },
  {
   "cell_type": "code",
   "execution_count": 1,
   "id": "564f7e2f",
   "metadata": {},
   "outputs": [
    {
     "name": "stderr",
     "output_type": "stream",
     "text": [
      "/home/asingal/home/.venv/lib/python3.10/site-packages/numba/np/ufunc/parallel.py:371: NumbaWarning: The TBB threading layer requires TBB version 2021 update 6 or later i.e., TBB_INTERFACE_VERSION >= 12060. Found TBB_INTERFACE_VERSION = 12050. The TBB threading layer is disabled.\n",
      "  warnings.warn(problem)\n",
      "/home/asingal/home/.venv/lib/python3.10/site-packages/cotengra/hyperoptimizers/hyper.py:33: UserWarning: Couldn't import `kahypar` - skipping from default hyper optimizer and using basic `labels` method instead.\n",
      "  warnings.warn(\n"
     ]
    }
   ],
   "source": [
    "from trajectree.fock_optics.utils import create_vacuum_state\n",
    "from trajectree.fock_optics.devices import ry, rx, rz, global_phase\n",
    "from trajectree.fock_optics.measurement import bell_state_measurement\n",
    "from trajectree.fock_optics.outputs import print_quantum_state, read_quantum_state\n",
    "from trajectree.fock_optics.noise_models import single_mode_bosonic_noise_channels, depolarizing_operators, two_qubit_depolarizing_channel\n",
    "\n",
    "from trajectree.trajectory import trajectory_evaluator, quantum_channel\n",
    "\n",
    "import numpy as np\n",
    "from scipy import sparse as sp\n",
    "import qutip as qt\n",
    "from numpy import sqrt\n",
    "from quimb.tensor.tensor_arbgeom import tensor_network_apply_op_vec #type: ignore\n",
    "from quimb.tensor import MatrixProductOperator as mpo #type: ignore\n",
    "\n",
    "import matplotlib.pyplot as plt\n",
    "import matplotlib.animation as animation\n",
    "\n",
    "import copy\n",
    "from IPython.display import HTML"
   ]
  },
  {
   "cell_type": "code",
   "execution_count": 2,
   "id": "9172f7a5",
   "metadata": {},
   "outputs": [],
   "source": [
    "def create_perfect_bell_state(N=3, error_tolerance = 1e-10):\n",
    "    # Defining the control and target inputs here\n",
    "    a_dag = qt.create(N).full()\n",
    "    I = qt.identity(N).full()\n",
    "\n",
    "    a_H = np.kron(a_dag, I)\n",
    "    a_V = np.kron(I, a_dag)\n",
    "\n",
    "    # Testing the case with only one MPS for both control and target\n",
    "    vacuum = create_vacuum_state(num_modes=4, N=N)\n",
    "    pure_EPPS_operator = 1/sqrt(2) * (np.kron(a_H, a_H) + np.kron(a_V, a_V))\n",
    "    pure_EPPS_operator_MPO = mpo.from_dense(pure_EPPS_operator, dims = N, sites = (0,1,2,3), L=4, tags=\"ideal_state\")    \n",
    "    psi = tensor_network_apply_op_vec(pure_EPPS_operator_MPO, vacuum, compress=True, contract = True, cutoff = error_tolerance)\n",
    "    return psi, psi.site_tags\n",
    "\n"
   ]
  },
  {
   "cell_type": "code",
   "execution_count": 3,
   "id": "18f7aafb",
   "metadata": {},
   "outputs": [],
   "source": [
    "N = 3\n",
    "num_modes = 4\n",
    "efficiency = 1\n",
    "error_tolerance = 1e-10\n",
    "num_simulations = 1\n",
    "\n",
    "bsm_det_effs = [0.9,0.9]\n",
    "bsm_dark_counts_gain = [1+1e-6,1+1e-6]\n",
    "# bsm_measurements = {0:(2,3), 1:(0,1)}\n",
    "bsm_measurements = {0:(), 1:()}\n"
   ]
  },
  {
   "cell_type": "code",
   "execution_count": 4,
   "id": "596fb827",
   "metadata": {},
   "outputs": [
    {
     "name": "stdout",
     "output_type": "stream",
     "text": [
      "Corresponding Basis terms:\n",
      "1H0V_B 1H0V_A - 10 - [0.70710678+0.j]\n",
      "0H1V_B 0H1V_A - 30 - [0.70710678+0.j]\n"
     ]
    }
   ],
   "source": [
    "psi, site_tags = create_perfect_bell_state(N)\n",
    "\n",
    "read_quantum_state(psi, N, num_states = 2)"
   ]
  },
  {
   "cell_type": "code",
   "execution_count": null,
   "id": "804a3432",
   "metadata": {},
   "outputs": [
    {
     "name": "stderr",
     "output_type": "stream",
     "text": [
      "/home/asingal/home/quimb/quimb/tensor/tensor_core.py:4459: RuntimeWarning: divide by zero encountered in scalar power\n",
      "  return self.multiply_(other**-1)\n",
      "/home/asingal/home/quimb/quimb/tensor/tensor_core.py:4388: RuntimeWarning: invalid value encountered in scalar divide\n",
      "  x_sign = x / x_abs\n",
      "/home/asingal/home/quimb/quimb/tensor/tensor_core.py:4400: RuntimeWarning: invalid value encountered in multiply\n",
      "  tensor.modify(apply=lambda data: data * x_spread)\n"
     ]
    },
    {
     "ename": "ValueError",
     "evalue": "a must be greater than 0 unless no samples are taken",
     "output_type": "error",
     "traceback": [
      "\u001b[0;31m---------------------------------------------------------------------------\u001b[0m",
      "\u001b[0;31mValueError\u001b[0m                                Traceback (most recent call last)",
      "Cell \u001b[0;32mIn[5], line 11\u001b[0m\n\u001b[1;32m      7\u001b[0m quantum_channel_list\u001b[38;5;241m.\u001b[39mextend(BSM_quantum_channels)\n\u001b[1;32m      9\u001b[0m evaluator \u001b[38;5;241m=\u001b[39m trajectory_evaluator(quantum_channel_list)\n\u001b[0;32m---> 11\u001b[0m psi_iter \u001b[38;5;241m=\u001b[39m \u001b[43mevaluator\u001b[49m\u001b[38;5;241;43m.\u001b[39;49m\u001b[43mperform_simulation\u001b[49m\u001b[43m(\u001b[49m\u001b[43mpsi\u001b[49m\u001b[43m,\u001b[49m\u001b[43m \u001b[49m\u001b[43merror_tolerance\u001b[49m\u001b[43m,\u001b[49m\u001b[43m \u001b[49m\u001b[43mnormalize\u001b[49m\u001b[43m \u001b[49m\u001b[38;5;241;43m=\u001b[39;49m\u001b[43m \u001b[49m\u001b[38;5;28;43;01mFalse\u001b[39;49;00m\u001b[43m)\u001b[49m\n\u001b[1;32m     13\u001b[0m read_quantum_state(psi_iter, N, num_states \u001b[38;5;241m=\u001b[39m \u001b[38;5;241m2\u001b[39m)\n\u001b[1;32m     15\u001b[0m \u001b[38;5;66;03m# psi_iter.normalize()\u001b[39;00m\n\u001b[1;32m     16\u001b[0m \n\u001b[1;32m     17\u001b[0m \u001b[38;5;66;03m# coincidence_HH_ops_list\u001b[39;00m\n",
      "File \u001b[0;32m~/home/Trajectree/trajectree/trajectory.py:188\u001b[0m, in \u001b[0;36mtrajectory_evaluator.perform_simulation\u001b[0;34m(self, psi, error_tolerance, cache, trajectree_indices, normalize)\u001b[0m\n\u001b[1;32m    186\u001b[0m         psi \u001b[38;5;241m=\u001b[39m \u001b[38;5;28mself\u001b[39m\u001b[38;5;241m.\u001b[39mquery_trajectree(psi, kraus_MPOs, error_tolerance, cache, trajectree_indices\u001b[38;5;241m.\u001b[39mpop(\u001b[38;5;241m0\u001b[39m), normalize)\n\u001b[1;32m    187\u001b[0m     \u001b[38;5;28;01melse\u001b[39;00m: \u001b[38;5;66;03m# In this branch, you actually select the trajectory redomly and perform realistic simulations. \u001b[39;00m\n\u001b[0;32m--> 188\u001b[0m         psi \u001b[38;5;241m=\u001b[39m \u001b[38;5;28;43mself\u001b[39;49m\u001b[38;5;241;43m.\u001b[39;49m\u001b[43mquery_trajectree\u001b[49m\u001b[43m(\u001b[49m\u001b[43mpsi\u001b[49m\u001b[43m,\u001b[49m\u001b[43m \u001b[49m\u001b[43mkraus_MPOs\u001b[49m\u001b[43m,\u001b[49m\u001b[43m \u001b[49m\u001b[43merror_tolerance\u001b[49m\u001b[43m,\u001b[49m\u001b[43m \u001b[49m\u001b[43mcache\u001b[49m\u001b[43m \u001b[49m\u001b[38;5;241;43m=\u001b[39;49m\u001b[43m \u001b[49m\u001b[43mcache\u001b[49m\u001b[43m,\u001b[49m\u001b[43m \u001b[49m\u001b[43mnormalize\u001b[49m\u001b[43m \u001b[49m\u001b[38;5;241;43m=\u001b[39;49m\u001b[43m \u001b[49m\u001b[43mnormalize\u001b[49m\u001b[43m)\u001b[49m\n\u001b[1;32m    190\u001b[0m \u001b[38;5;28;01melif\u001b[39;00m quantum_channel\u001b[38;5;241m.\u001b[39mformalism \u001b[38;5;241m==\u001b[39m \u001b[38;5;124m'\u001b[39m\u001b[38;5;124mclosed\u001b[39m\u001b[38;5;124m'\u001b[39m \u001b[38;5;129;01mand\u001b[39;00m \u001b[38;5;129;01mnot\u001b[39;00m \u001b[38;5;28mself\u001b[39m\u001b[38;5;241m.\u001b[39mskip_unitary:\n\u001b[1;32m    191\u001b[0m     unitary_MPOs \u001b[38;5;241m=\u001b[39m quantum_channel\u001b[38;5;241m.\u001b[39mget_MPOs()\n",
      "File \u001b[0;32m~/home/Trajectree/trajectree/trajectory.py:153\u001b[0m, in \u001b[0;36mtrajectory_evaluator.query_trajectree\u001b[0;34m(self, psi, kraus_MPOs, error_tolerance, cache, selected_trajectory_index, normalize)\u001b[0m\n\u001b[1;32m    151\u001b[0m     \u001b[38;5;28mself\u001b[39m\u001b[38;5;241m.\u001b[39mcache_unitary \u001b[38;5;241m=\u001b[39m \u001b[38;5;28;01mTrue\u001b[39;00m\n\u001b[1;32m    152\u001b[0m     \u001b[38;5;28mself\u001b[39m\u001b[38;5;241m.\u001b[39mcache_miss \u001b[38;5;241m+\u001b[39m\u001b[38;5;241m=\u001b[39m \u001b[38;5;241m1\u001b[39m\n\u001b[0;32m--> 153\u001b[0m     psi \u001b[38;5;241m=\u001b[39m \u001b[38;5;28;43mself\u001b[39;49m\u001b[38;5;241;43m.\u001b[39;49m\u001b[43mdiscover_trajectree_node\u001b[49m\u001b[43m(\u001b[49m\u001b[43mpsi\u001b[49m\u001b[43m,\u001b[49m\u001b[43m \u001b[49m\u001b[43mkraus_MPOs\u001b[49m\u001b[43m,\u001b[49m\u001b[43m \u001b[49m\u001b[43merror_tolerance\u001b[49m\u001b[43m,\u001b[49m\u001b[43m \u001b[49m\u001b[43mnormalize\u001b[49m\u001b[43m,\u001b[49m\u001b[43m \u001b[49m\u001b[43mselected_trajectory_index\u001b[49m\u001b[43m \u001b[49m\u001b[38;5;241;43m=\u001b[39;49m\u001b[43m \u001b[49m\u001b[43mselected_trajectory_index\u001b[49m\u001b[43m)\u001b[49m\n\u001b[1;32m    155\u001b[0m \u001b[38;5;28;01mreturn\u001b[39;00m psi\n",
      "File \u001b[0;32m~/home/Trajectree/trajectree/trajectory.py:110\u001b[0m, in \u001b[0;36mtrajectory_evaluator.discover_trajectree_node\u001b[0;34m(self, psi, kraus_MPOs, error_tolerance, normalize, selected_trajectory_index)\u001b[0m\n\u001b[1;32m    107\u001b[0m cached_trajectory_indices \u001b[38;5;241m=\u001b[39m \u001b[38;5;28mself\u001b[39m\u001b[38;5;241m.\u001b[39mcache_trajectree_node(trajectory_probs, trajectories) \u001b[38;5;66;03m# cached_trajectory_indices is returned only for debugging. \u001b[39;00m\n\u001b[1;32m    109\u001b[0m \u001b[38;5;28;01mif\u001b[39;00m selected_trajectory_index \u001b[38;5;241m==\u001b[39m \u001b[38;5;28;01mNone\u001b[39;00m:\n\u001b[0;32m--> 110\u001b[0m     selected_trajectory_index \u001b[38;5;241m=\u001b[39m \u001b[43mnp\u001b[49m\u001b[38;5;241;43m.\u001b[39;49m\u001b[43mrandom\u001b[49m\u001b[38;5;241;43m.\u001b[39;49m\u001b[43mchoice\u001b[49m\u001b[43m(\u001b[49m\u001b[43ma\u001b[49m\u001b[43m \u001b[49m\u001b[38;5;241;43m=\u001b[39;49m\u001b[43m \u001b[49m\u001b[38;5;28;43mlen\u001b[39;49m\u001b[43m(\u001b[49m\u001b[43mtrajectory_probs\u001b[49m\u001b[43m)\u001b[49m\u001b[43m,\u001b[49m\u001b[43m \u001b[49m\u001b[43mp\u001b[49m\u001b[43m \u001b[49m\u001b[38;5;241;43m=\u001b[39;49m\u001b[43m \u001b[49m\u001b[43mtrajectory_probs\u001b[49m\u001b[38;5;241;43m/\u001b[39;49m\u001b[38;5;28;43msum\u001b[39;49m\u001b[43m(\u001b[49m\u001b[43mtrajectory_probs\u001b[49m\u001b[43m)\u001b[49m\u001b[43m)\u001b[49m\n\u001b[1;32m    112\u001b[0m \u001b[38;5;28mself\u001b[39m\u001b[38;5;241m.\u001b[39mtraversed_nodes \u001b[38;5;241m=\u001b[39m \u001b[38;5;28mself\u001b[39m\u001b[38;5;241m.\u001b[39mtraversed_nodes \u001b[38;5;241m+\u001b[39m (selected_trajectory_index,)\n\u001b[1;32m    114\u001b[0m \u001b[38;5;28;01mreturn\u001b[39;00m trajectories[selected_trajectory_index]\n",
      "File \u001b[0;32mnumpy/random/mtrand.pyx:968\u001b[0m, in \u001b[0;36mnumpy.random.mtrand.RandomState.choice\u001b[0;34m()\u001b[0m\n",
      "\u001b[0;31mValueError\u001b[0m: a must be greater than 0 unless no samples are taken"
     ]
    }
   ],
   "source": [
    "quantum_channel_list = []\n",
    "\n",
    "phase_flip_ops = [sp.csr_matrix(global_phase(0, N, return_unitary = True, site1 = 0, site2 = 1, total_sites = 2))]\n",
    "quantum_channel_list.append(quantum_channel(N = N, num_modes = 4, formalism = \"kraus\", kraus_ops_tuple = ((0,1), phase_flip_ops), name = \"first_kraus\"))\n",
    "\n",
    "BSM_quantum_channels = bell_state_measurement(None, N, site_tags, num_modes, bsm_det_effs, bsm_dark_counts_gain, error_tolerance, beamsplitters = [[0,2],[1,3]], measurements = bsm_measurements, pnr = False, use_trajectory = True, return_MPOs = True, compress=True, contract=True)\n",
    "quantum_channel_list.extend(BSM_quantum_channels)\n",
    "\n",
    "evaluator = trajectory_evaluator(quantum_channel_list)\n",
    "\n",
    "psi_iter = evaluator.perform_simulation(psi, error_tolerance, normalize = True)\n",
    "\n",
    "read_quantum_state(psi_iter, N, num_states = 2)\n",
    "\n",
    "# psi_iter.normalize()\n",
    "\n",
    "# coincidence_HH_ops_list"
   ]
  },
  {
   "cell_type": "code",
   "execution_count": 6,
   "id": "6d13d375",
   "metadata": {},
   "outputs": [
    {
     "name": "stdout",
     "output_type": "stream",
     "text": [
      "first_kraus\n",
      "beam splitter\n",
      "beam splitter\n",
      "detector inefficiency\n",
      "detector inefficiency\n",
      "dark counts\n",
      "dark counts\n"
     ]
    }
   ],
   "source": [
    "for qc in quantum_channel_list:\n",
    "    print(qc.name)"
   ]
  }
 ],
 "metadata": {
  "kernelspec": {
   "display_name": ".venv",
   "language": "python",
   "name": "python3"
  },
  "language_info": {
   "codemirror_mode": {
    "name": "ipython",
    "version": 3
   },
   "file_extension": ".py",
   "mimetype": "text/x-python",
   "name": "python",
   "nbconvert_exporter": "python",
   "pygments_lexer": "ipython3",
   "version": "3.10.12"
  }
 },
 "nbformat": 4,
 "nbformat_minor": 5
}
